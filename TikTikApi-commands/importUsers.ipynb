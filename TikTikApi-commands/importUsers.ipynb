{
 "cells": [
  {
   "cell_type": "code",
   "execution_count": 19,
   "id": "clear-danish",
   "metadata": {},
   "outputs": [],
   "source": [
    "import pandas as pd\n",
    "import pickle\n",
    "import datetime\n",
    "import numpy \n",
    "\n",
    "td = datetime.date.today()"
   ]
  },
  {
   "cell_type": "code",
   "execution_count": 27,
   "id": "continued-prospect",
   "metadata": {},
   "outputs": [
    {
     "name": "stdout",
     "output_type": "stream",
     "text": [
      "           rohanramdin\n",
      "0          teena_thach\n",
      "1         chiroseattle\n",
      "2             kuhleeuh\n",
      "3         sarahseyoung\n",
      "4       420doggface208\n",
      "5     _awa_de_horchata\n",
      "6          lizemopetey\n",
      "7      iamtabithabrown\n",
      "8        thejulianbass\n",
      "9              hartyt_\n",
      "10            drleslie\n",
      "11      taylorcassidyj\n",
      "12           siennamae\n",
      "13              nabela\n",
      "14       notoriouscree\n",
      "15  chrissycanthearyou\n",
      "16           team2moms\n",
      "17           zachv_pat\n",
      "18          makayladid\n",
      "19         olsennchris\n",
      "20           willsmith\n",
      "21         nevschulman\n",
      "22           ohbukster\n",
      "23         charlieputh\n",
      "24       myhealthydish\n",
      "25              wisdm8\n",
      "26          flossybaby\n",
      "27      kidkneesothran\n",
      "28     herecomedatkush\n",
      "29     brittany_broski\n",
      "30            jade13tr\n",
      "31        sammielewiss\n",
      "32         jayleennina\n",
      "33       malorielynn14\n",
      "34         calebcutler\n",
      "35         daviddobrik\n",
      "[['teena_thach']\n",
      " ['chiroseattle']\n",
      " ['kuhleeuh']\n",
      " ['sarahseyoung']\n",
      " ['420doggface208']\n",
      " ['_awa_de_horchata']\n",
      " ['lizemopetey']\n",
      " ['iamtabithabrown']\n",
      " ['thejulianbass']\n",
      " ['hartyt_']\n",
      " ['drleslie']\n",
      " ['taylorcassidyj']\n",
      " ['siennamae']\n",
      " ['nabela']\n",
      " ['notoriouscree']\n",
      " ['chrissycanthearyou']\n",
      " ['team2moms']\n",
      " ['zachv_pat']\n",
      " ['makayladid']\n",
      " ['olsennchris']\n",
      " ['willsmith']\n",
      " ['nevschulman']\n",
      " ['ohbukster']\n",
      " ['charlieputh']\n",
      " ['myhealthydish']\n",
      " ['wisdm8']\n",
      " ['flossybaby']\n",
      " ['kidkneesothran']\n",
      " ['herecomedatkush']\n",
      " ['brittany_broski']\n",
      " ['jade13tr']\n",
      " ['sammielewiss']\n",
      " ['jayleennina']\n",
      " ['malorielynn14']\n",
      " ['calebcutler']\n",
      " ['daviddobrik']]\n",
      "teena_thach\n",
      "chiroseattle\n",
      "kuhleeuh\n"
     ]
    },
    {
     "data": {
      "text/plain": [
       "36"
      ]
     },
     "execution_count": 27,
     "metadata": {},
     "output_type": "execute_result"
    }
   ],
   "source": [
    "# users = pd.read_csv(\"HonThesis-OdalysBar/extract-from-odalyss-list/famous-users.txt\")\n",
    "# viral users does not work\n",
    "users = pd.read_csv(\"HonThesis-OdalysBar/extract-from-odalyss-list/viral-users.txt\")\n",
    "# users = pd.read_csv(\"HonThesis-OdalysBar/extract-from-odalyss-list/foryou-users.txt\")\n",
    "print(users)\n",
    "len(users)\n",
    "\n",
    "users = users.to_numpy() # convert to numpy array\n",
    "print(users) # one big list of small list that contain the username\n",
    "print(users[0][0]) # charlidamelio\n",
    "print(users[1][0]) # awezdarbar\n",
    "print(users[2][0]) # wigofellas\n",
    "\n",
    "len(users) # 63 usernames\n"
   ]
  },
  {
   "cell_type": "code",
   "execution_count": 28,
   "id": "quiet-phone",
   "metadata": {},
   "outputs": [],
   "source": [
    "for i in range(0,len(users)): # for i from 0 to the whole list of users \n",
    "    df = pd.DataFrame(open(\"HonThesis-OdalysBar/extract-from-odalyss-list/data/%s.p\" % (users[i][0]), \"rb\"))\n",
    "    df.to_csv('%s.csv' % (users[i][0]))\n",
    "    "
   ]
  }
 ],
 "metadata": {
  "kernelspec": {
   "display_name": "Python 3",
   "language": "python",
   "name": "python3"
  },
  "language_info": {
   "codemirror_mode": {
    "name": "ipython",
    "version": 3
   },
   "file_extension": ".py",
   "mimetype": "text/x-python",
   "name": "python",
   "nbconvert_exporter": "python",
   "pygments_lexer": "ipython3",
   "version": "3.8.3"
  }
 },
 "nbformat": 4,
 "nbformat_minor": 5
}
