{
 "cells": [
  {
   "cell_type": "code",
   "execution_count": 1,
   "id": "clear-danish",
   "metadata": {},
   "outputs": [],
   "source": [
    "import pandas as pd\n",
    "import pickle\n",
    "import datetime\n",
    "import numpy \n",
    "\n",
    "td = datetime.date.today()"
   ]
  },
  {
   "cell_type": "code",
   "execution_count": 6,
   "id": "continued-prospect",
   "metadata": {},
   "outputs": [
    {
     "name": "stdout",
     "output_type": "stream",
     "text": [
      "        addisonre\n",
      "0   charlidamelio\n",
      "1      awezdarbar\n",
      "2     wigofellas \n",
      "3    naimdarrechi\n",
      "4        jashlem \n",
      "..            ...\n",
      "58       lelepons\n",
      "59       kingbach\n",
      "60         camilo\n",
      "61  nianaguerrero\n",
      "62     larrayeeee\n",
      "\n",
      "[63 rows x 1 columns]\n",
      "[['charlidamelio']\n",
      " ['awezdarbar']\n",
      " ['wigofellas ']\n",
      " ['naimdarrechi']\n",
      " ['jashlem ']\n",
      " ['ondreazlopez']\n",
      " ['domelipa']\n",
      " ['avneetkaur_13 ']\n",
      " ['noahbeck']\n",
      " ['piyanka_mongia']\n",
      " ['tonylopez']\n",
      " ['junya1gou']\n",
      " ['jaydencroes']\n",
      " ['savv.labrant']\n",
      " ['jacobsartorius']\n",
      " ['sameeksha_sud ']\n",
      " ['dobretwins']\n",
      " ['joealbanese']\n",
      " ['nishaguragain']\n",
      " ['lilhuddy']\n",
      " ['_arishfakhan_ ']\n",
      " ['stokestwins\\xa0']\n",
      " ['cznburak']\n",
      " ['avani ']\n",
      " ['gilmhercroes\\xa0']\n",
      " ['faisu_07_blocch']\n",
      " ['babyariel']\n",
      " ['justmaiko']\n",
      " ['dixiedamelio']\n",
      " ['bellapoarch\\xa0']\n",
      " ['lorengray\\xa0']\n",
      " ['spencerx']\n",
      " ['joshrichards']\n",
      " ['zachkings']\n",
      " ['therock']\n",
      " ['jamescharles']\n",
      " ['itsjojosiwa']\n",
      " ['kimberly.laoiza']\n",
      " ['mr_faisal_.07']\n",
      " ['brentrivera']\n",
      " ['jasonderulo']\n",
      " ['willsmith']\n",
      " ['riyaz.14']\n",
      " ['selenagomes']\n",
      " ['jasoncoffee']\n",
      " ['kirakosarin']\n",
      " ['laurengodwin']\n",
      " ['daviddobrik']\n",
      " ['mackenzieziegler ']\n",
      " ['arianagrande ']\n",
      " ['hannahstocking']\n",
      " ['ignaciaa_antonia']\n",
      " ['kylethomas']\n",
      " ['justinbieber']\n",
      " ['imkevinhart']\n",
      " ['josimartineze__']\n",
      " ['jiffpom']\n",
      " ['cutybeautykhan']\n",
      " ['lelepons']\n",
      " ['kingbach']\n",
      " ['camilo']\n",
      " ['nianaguerrero']\n",
      " ['larrayeeee']]\n",
      "charlidamelio\n",
      "awezdarbar\n",
      "wigofellas \n"
     ]
    },
    {
     "data": {
      "text/plain": [
       "63"
      ]
     },
     "execution_count": 6,
     "metadata": {},
     "output_type": "execute_result"
    }
   ],
   "source": [
    "users = pd.read_csv(\"HonThesis-OdalysBar/extract-from-odalyss-list/famous-users.txt\")\n",
    "print(users)\n",
    "len(users)\n",
    "\n",
    "users = users.to_numpy() # convert to numpy array\n",
    "print(users) # one big list of small list that contain the username\n",
    "print(users[0][0]) # charlidamelio\n",
    "print(users[1][0]) # awezdarbar\n",
    "print(users[2][0]) # wigofellas\n",
    "\n",
    "len(users) # 63 usernames\n"
   ]
  },
  {
   "cell_type": "code",
   "execution_count": 14,
   "id": "quiet-phone",
   "metadata": {},
   "outputs": [],
   "source": [
    "for i in range(0,len(users)): # for i from 0 to the whole list of users \n",
    "    df = pd.DataFrame(open(\"HonThesis-OdalysBar/extract-from-odalyss-list/data/%s.p\" % (user[i][0]), \"rb\"))\n",
    "    df.to_csv('%s.csv' % (user[i][0]))\n",
    "    "
   ]
  },
  {
   "cell_type": "code",
   "execution_count": 54,
   "id": "colored-personal",
   "metadata": {},
   "outputs": [
    {
     "ename": "SyntaxError",
     "evalue": "invalid syntax (<ipython-input-54-3813af29c95c>, line 3)",
     "output_type": "error",
     "traceback": [
      "\u001b[0;36m  File \u001b[0;32m\"<ipython-input-54-3813af29c95c>\"\u001b[0;36m, line \u001b[0;32m3\u001b[0m\n\u001b[0;31m    numpy.savetxt(data)\u001b[0m\n\u001b[0m    ^\u001b[0m\n\u001b[0;31mSyntaxError\u001b[0m\u001b[0;31m:\u001b[0m invalid syntax\n"
     ]
    }
   ],
   "source": [
    "for i in range(0,1):\n",
    "    data = open((\"HonThesis-OdalysBar/extract-from-odalyss-list/data/%s.p\" % (user[i][0]), \"rb\")\n",
    "    numpy.savetxt(data)"
   ]
  }
 ],
 "metadata": {
  "kernelspec": {
   "display_name": "Python 3",
   "language": "python",
   "name": "python3"
  },
  "language_info": {
   "codemirror_mode": {
    "name": "ipython",
    "version": 3
   },
   "file_extension": ".py",
   "mimetype": "text/x-python",
   "name": "python",
   "nbconvert_exporter": "python",
   "pygments_lexer": "ipython3",
   "version": "3.8.3"
  }
 },
 "nbformat": 4,
 "nbformat_minor": 5
}
