{
 "cells": [
  {
   "cell_type": "code",
   "execution_count": 7,
   "id": "capable-watts",
   "metadata": {},
   "outputs": [],
   "source": [
    "from transCSSR import *\n",
    "import matplotlib.pyplot as plt\n",
    "\n",
    "import graphviz\n",
    "from sklearn.metrics import log_loss\n",
    "\n",
    "import itertools"
   ]
  },
  {
   "cell_type": "code",
   "execution_count": 10,
   "id": "proof-disclosure",
   "metadata": {},
   "outputs": [
    {
     "name": "stderr",
     "output_type": "stream",
     "text": [
      "/Users/odalysbar/Documents/HonorsThesis/HonorsThesis-TikTok/transCSSR-master/transCSSR.py:5203: RuntimeWarning: divide by zero encountered in log\n",
      "  log_like = numpy.sum(numpy.log(realized_probs_by_time))\n"
     ]
    }
   ],
   "source": [
    "for i in range(1,137):   \n",
    "#for i in range(1,2):   \n",
    "    data_prefix = ''\n",
    "    Yt_name = ('user%s' % i)\n",
    "    Xt_name = ''\n",
    "\n",
    "    machine_fname = '+.dot'\n",
    "    transducer_fname = '+{}.dot'.format(Yt_name)\n",
    "\n",
    "    # %%%%%%%%%%%%%%%%%%%%%%%%%%%%%%%%%%%%%%%%%%%%%%%%%%%%%%%%%%\n",
    "\n",
    "    stringYs = open(('Training&Testing/TrainingData/Train-%s.txt' % i).format(data_prefix, Yt_name)).readlines()\n",
    "\n",
    "    stringY = \"\"\n",
    "\n",
    "    for y in stringYs:\n",
    "        stringY += y.strip()\n",
    "    \n",
    "\n",
    "    if Xt_name == '':\n",
    "        stringX = '0'*len(stringY)\n",
    "    else:\n",
    "        stringX = open(('Training&Testing/TrainingData/Train-%s.txt' % i).format(data_prefix, Xt_name)).readline().strip()\n",
    "    \n",
    "    # %%%%%%%%%%%%%%%%%%%%%%%%%%%%%%%%%%%%%%%%%%%%%%%%%%%%%%%%%%\n",
    "\n",
    "    axs = ['0']\n",
    "    ays = ['0', '1']\n",
    "\n",
    "    e_symbols = list(itertools.product(axs, ays)) # All of the possible pairs of emission\n",
    "                                              # symbols for (x, y)\n",
    "\n",
    "    alpha = 0.001\n",
    "\n",
    "    verbose = False\n",
    "\n",
    "    # L is the maximum amount we want to ever look back.\n",
    "\n",
    "    L_max = 15\n",
    "\n",
    "    inf_alg = 'transCSSR'\n",
    "\n",
    "    Tx = len(stringX); Ty = len(stringY)\n",
    "\n",
    "    assert Tx == Ty, 'The two time series must have the same length.'\n",
    "\n",
    "    T = Tx\n",
    "\n",
    "# %%%%%%%%%%%%%%%%%%%%%%%%%%%%%%%%%%%%%%%%%%%%%%%%%%%%%%%%%%\n",
    "    \n",
    "    model_selection_output = choose_L_eM(stringX, stringY, L_max, axs, ays, e_symbols, Xt_name, Yt_name, alpha = 0.001, test_type = 'chi2', fname = None, is_multiline = False, verbose = True, all_digits = True)\n",
    "\n"
   ]
  },
  {
   "cell_type": "code",
   "execution_count": 5,
   "id": "dated-configuration",
   "metadata": {},
   "outputs": [
    {
     "name": "stdout",
     "output_type": "stream",
     "text": [
      "Object `choose_L_eM()` not found.\n"
     ]
    }
   ],
   "source": []
  }
 ],
 "metadata": {
  "kernelspec": {
   "display_name": "Python 3",
   "language": "python",
   "name": "python3"
  },
  "language_info": {
   "codemirror_mode": {
    "name": "ipython",
    "version": 3
   },
   "file_extension": ".py",
   "mimetype": "text/x-python",
   "name": "python",
   "nbconvert_exporter": "python",
   "pygments_lexer": "ipython3",
   "version": "3.8.3"
  }
 },
 "nbformat": 4,
 "nbformat_minor": 5
}
