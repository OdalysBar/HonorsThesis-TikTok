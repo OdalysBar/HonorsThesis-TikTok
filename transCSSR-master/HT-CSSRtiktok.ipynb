{
 "cells": [
  {
   "cell_type": "code",
   "execution_count": 1,
   "id": "suited-proposal",
   "metadata": {},
   "outputs": [],
   "source": [
    "from transCSSR import *\n",
    "import matplotlib.pyplot as plt\n",
    "\n",
    "import graphviz\n",
    "from sklearn.metrics import log_loss\n",
    "\n",
    "import itertools"
   ]
  },
  {
   "cell_type": "code",
   "execution_count": 7,
   "id": "conditional-handle",
   "metadata": {},
   "outputs": [
    {
     "ename": "NameError",
     "evalue": "name 'L_opt' is not defined",
     "output_type": "error",
     "traceback": [
      "\u001b[0;31m---------------------------------------------------------------------------\u001b[0m",
      "\u001b[0;31mNameError\u001b[0m                                 Traceback (most recent call last)",
      "\u001b[0;32m<ipython-input-7-a376f36949bf>\u001b[0m in \u001b[0;36m<module>\u001b[0;34m\u001b[0m\n\u001b[1;32m     51\u001b[0m \u001b[0;34m\u001b[0m\u001b[0m\n\u001b[1;32m     52\u001b[0m \u001b[0;31m# %%%%%%%%%%%%%%%%%%%%%%%%%%%%%%%%%%%%%%%%%%%%%%%%%%%%%%%%%%\u001b[0m\u001b[0;34m\u001b[0m\u001b[0;34m\u001b[0m\u001b[0;34m\u001b[0m\u001b[0m\n\u001b[0;32m---> 53\u001b[0;31m     \u001b[0mword_lookup_marg\u001b[0m\u001b[0;34m,\u001b[0m \u001b[0mword_lookup_fut\u001b[0m \u001b[0;34m=\u001b[0m \u001b[0mestimate_predictive_distributions\u001b[0m\u001b[0;34m(\u001b[0m\u001b[0mstringX\u001b[0m\u001b[0;34m,\u001b[0m \u001b[0mstringY\u001b[0m\u001b[0;34m,\u001b[0m \u001b[0mL_opt\u001b[0m\u001b[0;34m)\u001b[0m\u001b[0;34m\u001b[0m\u001b[0;34m\u001b[0m\u001b[0m\n\u001b[0m\u001b[1;32m     54\u001b[0m \u001b[0;34m\u001b[0m\u001b[0m\n\u001b[1;32m     55\u001b[0m     \u001b[0mepsilon\u001b[0m\u001b[0;34m,\u001b[0m \u001b[0minvepsilon\u001b[0m\u001b[0;34m,\u001b[0m \u001b[0mmorph_by_state\u001b[0m \u001b[0;34m=\u001b[0m \u001b[0mrun_transCSSR\u001b[0m\u001b[0;34m(\u001b[0m\u001b[0mword_lookup_marg\u001b[0m\u001b[0;34m,\u001b[0m \u001b[0mword_lookup_fut\u001b[0m\u001b[0;34m,\u001b[0m \u001b[0mL_opt\u001b[0m\u001b[0;34m,\u001b[0m \u001b[0maxs\u001b[0m\u001b[0;34m,\u001b[0m \u001b[0mays\u001b[0m\u001b[0;34m,\u001b[0m \u001b[0me_symbols\u001b[0m\u001b[0;34m,\u001b[0m \u001b[0mXt_name\u001b[0m\u001b[0;34m,\u001b[0m \u001b[0mYt_name\u001b[0m\u001b[0;34m,\u001b[0m \u001b[0malpha\u001b[0m \u001b[0;34m=\u001b[0m \u001b[0malpha\u001b[0m\u001b[0;34m,\u001b[0m \u001b[0mall_digits\u001b[0m \u001b[0;34m=\u001b[0m \u001b[0;32mTrue\u001b[0m\u001b[0;34m)\u001b[0m\u001b[0;34m\u001b[0m\u001b[0;34m\u001b[0m\u001b[0m\n",
      "\u001b[0;31mNameError\u001b[0m: name 'L_opt' is not defined"
     ]
    }
   ],
   "source": [
    "\n",
    "#for i in range(1,137):\n",
    "for i in range(48,49):       \n",
    "    data_prefix = ''\n",
    "    Yt_name = ('user%s' % i)\n",
    "    Xt_name = ''\n",
    "\n",
    "    machine_fname = '+.dot'\n",
    "    transducer_fname = '+{}.dot'.format(Yt_name)\n",
    "\n",
    "# %%%%%%%%%%%%%%%%%%%%%%%%%%%%%%%%%%%%%%%%%%%%%%%%%%%%%%%%%%\n",
    "\n",
    "    stringYs = open(('Training&Testing/TrainingData/Train-%s.txt' % i).format(data_prefix, Yt_name)).readlines()\n",
    "\n",
    "    stringY = \"\"\n",
    "\n",
    "    for y in stringYs:\n",
    "        stringY += y.strip()\n",
    "    \n",
    "\n",
    "    if Xt_name == '':\n",
    "        stringX = '0'*len(stringY)\n",
    "    else:\n",
    "        stringX = open(('Training&Testing/TrainingData/Train-%s.txt' % i).format(data_prefix, Xt_name)).readline().strip()\n",
    "    \n",
    "# %%%%%%%%%%%%%%%%%%%%%%%%%%%%%%%%%%%%%%%%%%%%%%%%%%%%%%%%%%\n",
    "\n",
    "    axs = ['0']\n",
    "    ays = ['0', '1']\n",
    "\n",
    "    e_symbols = list(itertools.product(axs, ays)) # All of the possible pairs of emission\n",
    "                                              # symbols for (x, y)\n",
    "\n",
    "    alpha = 0.001\n",
    "\n",
    "    verbose = False\n",
    "\n",
    "# L is the maximum amount we want to ever look back.\n",
    "\n",
    "    L_max_words = 10\n",
    "    L_max_CSSR  = 5\n",
    "\n",
    "    assert L_max_CSSR <= L_max_words, \"L_max_CSSR must be less than or equal to L_max_words\"\n",
    "\n",
    "    inf_alg = 'transCSSR'\n",
    "\n",
    "    Tx = len(stringX); Ty = len(stringY)\n",
    "\n",
    "    assert Tx == Ty, 'The two time series must have the same length.'\n",
    "\n",
    "    T = Tx\n",
    "\n",
    "# %%%%%%%%%%%%%%%%%%%%%%%%%%%%%%%%%%%%%%%%%%%%%%%%%%%%%%%%%%\n",
    "    word_lookup_marg, word_lookup_fut = estimate_predictive_distributions(stringX, stringY, L_opt)\n",
    "\n",
    "    epsilon, invepsilon, morph_by_state = run_transCSSR(word_lookup_marg, word_lookup_fut, L_opt, axs, ays, e_symbols, Xt_name, Yt_name, alpha = alpha, all_digits = True)\n",
    "\n",
    "    #word_lookup_marg, word_lookup_fut = estimate_predictive_distributions(stringX, stringY, L_max_words)\n",
    "\n",
    "    #epsilon, invepsilon, morph_by_state = run_transCSSR(word_lookup_marg, word_lookup_fut, L_max_CSSR, axs, ays, e_symbols, Xt_name, Yt_name, alpha = alpha, all_digits = 4)\n",
    "\n",
    "    # print('The epsilon-transducer has {} states.'.format(len(invepsilon)))\n",
    "\n",
    "    # print_morph_by_states(morph_by_state, axs, ays, e_symbols)\n",
    "\n",
    "# %%%%%%%%%%%%%%%%%%%%%%%%%%%%%%%%%%%%%%%%%%%%%%%%%%%%%%%%%%\n",
    "\n",
    "    graphviz.Source.from_file('transCSSR_results/'+transducer_fname)"
   ]
  }
 ],
 "metadata": {
  "kernelspec": {
   "display_name": "Python 3",
   "language": "python",
   "name": "python3"
  },
  "language_info": {
   "codemirror_mode": {
    "name": "ipython",
    "version": 3
   },
   "file_extension": ".py",
   "mimetype": "text/x-python",
   "name": "python",
   "nbconvert_exporter": "python",
   "pygments_lexer": "ipython3",
   "version": "3.8.3"
  }
 },
 "nbformat": 4,
 "nbformat_minor": 5
}
