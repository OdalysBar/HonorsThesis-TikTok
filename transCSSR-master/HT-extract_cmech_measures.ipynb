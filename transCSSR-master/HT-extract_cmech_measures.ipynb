{
 "cells": [
  {
   "cell_type": "markdown",
   "metadata": {},
   "source": [
    "# Demo Extracting Information-dynamic Measures from $\\epsilon$-machine"
   ]
  },
  {
   "cell_type": "markdown",
   "metadata": {},
   "source": [
    "Extract:\n",
    "\n",
    "* entropy rate $h_{\\mu}$\n",
    "* excess entropy $\\mathbf{E}$\n",
    "*computational complexity $C_{\\mu}$\n",
    "\n",
    "where:\n",
    "$$\n",
    "\\begin{aligned}  \n",
    "\th_{\\mu} &= H[X_{0} \\mid X_{-\\infty}^{-1}] \\\\\n",
    "    \\mathbf{E} &= I[X_{-\\infty}^{-1} \\wedge X_{0}^{\\infty}] \\\\\n",
    "    C_{\\mu} &= I[S_{0} \\wedge X_{-\\infty}^{-1}]\n",
    "\\end{aligned}\n",
    "$$"
   ]
  },
  {
   "cell_type": "code",
   "execution_count": 1,
   "metadata": {},
   "outputs": [],
   "source": [
    "# This magic command makes plots interactive\n",
    "%matplotlib notebook\n",
    "#%matplotlib widget\n",
    "\n",
    "from transCSSR import *\n",
    "import matplotlib.pyplot as plt\n",
    "\n",
    "import graphviz\n",
    "from sklearn.metrics import log_loss\n",
    "\n",
    "import itertools\n",
    "\n",
    "import numpy as np\n",
    "\n",
    "import sklearn.metrics"
   ]
  },
  {
   "cell_type": "code",
   "execution_count": 6,
   "metadata": {},
   "outputs": [
    {
     "name": "stdout",
     "output_type": "stream",
     "text": [
      "1 0.15352724820666513 0.00523949191067144 0.29910282896818996\n"
     ]
    }
   ],
   "source": [
    "for i in [1]:\n",
    "    data_prefix = ''\n",
    "    Yt_name = ('user%s' % i)\n",
    "    Xt_name = ''\n",
    "\n",
    "    machine_fname = '+.dot'\n",
    "    transducer_fname = '+{}.dot'.format(Yt_name)\n",
    "\n",
    "    #print(stringY)\n",
    "\n",
    "    axs = ['0']\n",
    "    ays = ['0', '1']\n",
    "    \n",
    "    HLs, hLs, hmu, ELs, E, Cmu, etas_matrix = compute_ict_measures('transCSSR_results/' + transducer_fname, ays, L_max = 10, inf_alg = 'transCSSR')\n",
    "    \n",
    "    print(i, hmu, E, Cmu)"
   ]
  },
  {
   "cell_type": "code",
   "execution_count": null,
   "metadata": {},
   "outputs": [],
   "source": []
  }
 ],
 "metadata": {
  "kernelspec": {
   "display_name": "Python 3",
   "language": "python",
   "name": "python3"
  },
  "language_info": {
   "codemirror_mode": {
    "name": "ipython",
    "version": 3
   },
   "file_extension": ".py",
   "mimetype": "text/x-python",
   "name": "python",
   "nbconvert_exporter": "python",
   "pygments_lexer": "ipython3",
   "version": "3.8.5"
  }
 },
 "nbformat": 4,
 "nbformat_minor": 5
}
