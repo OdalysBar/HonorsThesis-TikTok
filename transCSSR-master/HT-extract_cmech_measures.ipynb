{
 "cells": [
  {
   "cell_type": "markdown",
   "id": "secondary-verification",
   "metadata": {},
   "source": [
    "# Demo Extracting Information-dynamic Measures from $\\epsilon$-machine"
   ]
  },
  {
   "cell_type": "markdown",
   "id": "patient-avatar",
   "metadata": {},
   "source": [
    "Extract:\n",
    "\n",
    "* entropy rate $h_{\\mu}$\n",
    "* excess entropy $\\mathbf{E}$\n",
    "*computational complexity $C_{\\mu}$\n",
    "\n",
    "where:\n",
    "$$\n",
    "\\begin{aligned}  \n",
    "\th_{\\mu} &= H[X_{0} \\mid X_{-\\infty}^{-1}] \\\\\n",
    "    \\mathbf{E} &= I[X_{-\\infty}^{-1} \\wedge X_{0}^{\\infty}] \\\\\n",
    "    C_{\\mu} &= I[S_{0} \\wedge X_{-\\infty}^{-1}]\n",
    "\\end{aligned}\n",
    "$$"
   ]
  },
  {
   "cell_type": "code",
   "execution_count": 1,
   "id": "established-bidder",
   "metadata": {},
   "outputs": [],
   "source": [
    "# This magic command makes plots interactive\n",
    "%matplotlib notebook\n",
    "#%matplotlib widget\n",
    "\n",
    "from transCSSR import *\n",
    "import matplotlib.pyplot as plt\n",
    "\n",
    "import graphviz\n",
    "from sklearn.metrics import log_loss\n",
    "\n",
    "import itertools\n",
    "\n",
    "import numpy as np\n",
    "\n",
    "import sklearn.metrics"
   ]
  },
  {
   "cell_type": "code",
   "execution_count": 40,
   "id": "sunset-luther",
   "metadata": {},
   "outputs": [],
   "source": [
    "infomeasures = []\n",
    "\n",
    "for i in range(1, 137):\n",
    "    data_prefix = ''\n",
    "    Yt_name = ('user%s' % i)\n",
    "    Xt_name = ''\n",
    "\n",
    "    machine_fname = '+.dot'\n",
    "    transducer_fname = '+{}.dot'.format(Yt_name)\n",
    "\n",
    "    #print(stringY)\n",
    "\n",
    "    axs = ['0']\n",
    "    ays = ['0', '1']\n",
    "    \n",
    "    HLs, hLs, hmu, ELs, E, Cmu, etas_matrix = compute_ict_measures('transCSSR_results/' + transducer_fname, ays, L_max = 10, inf_alg = 'transCSSR')\n",
    "    \n",
    "    \n",
    "    #print(i, hmu, E, Cmu)\n",
    "    measures = [i, hmu, E, Cmu]\n",
    "    \n",
    "    infomeasures.append(measures)"
   ]
  },
  {
   "cell_type": "code",
   "execution_count": 45,
   "id": "accepting-communications",
   "metadata": {},
   "outputs": [],
   "source": [
    "user = []\n",
    "Hmu = []\n",
    "E = []\n",
    "Cmu = []\n",
    "\n",
    "for i in range(0, 136):\n",
    "    user.append(infomeasures[i][0])\n",
    "    Hmu.append(infomeasures[i][1])\n",
    "    E.append(infomeasures[i][2])\n",
    "    Cmu.append(infomeasures[i][3])\n",
    "    "
   ]
  },
  {
   "cell_type": "code",
   "execution_count": 46,
   "id": "falling-injection",
   "metadata": {},
   "outputs": [],
   "source": [
    "import pandas as pd\n",
    "\n",
    "pd.DataFrame({\"user\" : user , \"Hmu\" : Hmu, \"E\" : E, \"Cmu\" : Cmu}).to_csv(\"InfoMeasuresData.csv\")"
   ]
  }
 ],
 "metadata": {
  "kernelspec": {
   "display_name": "Python 3",
   "language": "python",
   "name": "python3"
  },
  "language_info": {
   "codemirror_mode": {
    "name": "ipython",
    "version": 3
   },
   "file_extension": ".py",
   "mimetype": "text/x-python",
   "name": "python",
   "nbconvert_exporter": "python",
   "pygments_lexer": "ipython3",
   "version": "3.8.3"
  }
 },
 "nbformat": 4,
 "nbformat_minor": 5
}
