{
 "cells": [
  {
   "cell_type": "markdown",
   "id": "promising-garlic",
   "metadata": {},
   "source": [
    "# transCSSR Testing"
   ]
  },
  {
   "cell_type": "code",
   "execution_count": 2,
   "id": "lonely-mailman",
   "metadata": {},
   "outputs": [],
   "source": [
    "# This magic command makes plots interactive\n",
    "%matplotlib notebook\n",
    "#%matplotlib widget\n",
    "\n",
    "from transCSSR import *\n",
    "import matplotlib.pyplot as plt\n",
    "\n",
    "import graphviz\n",
    "from sklearn.metrics import log_loss\n",
    "\n",
    "import itertools\n",
    "\n",
    "import numpy as np\n",
    "\n",
    "import sklearn.metrics"
   ]
  },
  {
   "cell_type": "code",
   "execution_count": 7,
   "id": "opponent-stone",
   "metadata": {},
   "outputs": [
    {
     "name": "stdout",
     "output_type": "stream",
     "text": [
      "Starting filtering code with CSSR...\n"
     ]
    },
    {
     "ename": "KeyboardInterrupt",
     "evalue": "",
     "output_type": "error",
     "traceback": [
      "\u001b[0;31m---------------------------------------------------------------------------\u001b[0m",
      "\u001b[0;31mKeyboardInterrupt\u001b[0m                         Traceback (most recent call last)",
      "\u001b[0;32m<ipython-input-7-0ca959f45a0d>\u001b[0m in \u001b[0;36m<module>\u001b[0;34m\u001b[0m\n\u001b[1;32m     38\u001b[0m     \u001b[0mprint\u001b[0m\u001b[0;34m(\u001b[0m\u001b[0;34m\"Starting filtering code with CSSR...\"\u001b[0m\u001b[0;34m)\u001b[0m\u001b[0;34m\u001b[0m\u001b[0;34m\u001b[0m\u001b[0m\n\u001b[1;32m     39\u001b[0m \u001b[0;34m\u001b[0m\u001b[0m\n\u001b[0;32m---> 40\u001b[0;31m     \u001b[0mpred_probs_by_time\u001b[0m\u001b[0;34m,\u001b[0m \u001b[0mcur_states_by_time\u001b[0m \u001b[0;34m=\u001b[0m \u001b[0mfilter_and_pred_probs\u001b[0m\u001b[0;34m(\u001b[0m\u001b[0mstringX\u001b[0m\u001b[0;34m,\u001b[0m \u001b[0mstringY\u001b[0m\u001b[0;34m,\u001b[0m \u001b[0;34m'transCSSR_results/'\u001b[0m \u001b[0;34m+\u001b[0m \u001b[0mmachine_fname\u001b[0m\u001b[0;34m,\u001b[0m \u001b[0;34m'transCSSR_results/'\u001b[0m \u001b[0;34m+\u001b[0m \u001b[0mtransducer_fname\u001b[0m\u001b[0;34m,\u001b[0m \u001b[0maxs\u001b[0m\u001b[0;34m,\u001b[0m \u001b[0mays\u001b[0m\u001b[0;34m,\u001b[0m \u001b[0minf_alg\u001b[0m\u001b[0;34m=\u001b[0m\u001b[0;34m'transCSSR'\u001b[0m\u001b[0;34m)\u001b[0m\u001b[0;34m\u001b[0m\u001b[0;34m\u001b[0m\u001b[0m\n\u001b[0m\u001b[1;32m     41\u001b[0m \u001b[0;34m\u001b[0m\u001b[0m\n\u001b[1;32m     42\u001b[0m     \u001b[0mprint\u001b[0m\u001b[0;34m(\u001b[0m\u001b[0;34m\"Done filtering code with CSSR...\"\u001b[0m\u001b[0;34m)\u001b[0m\u001b[0;34m\u001b[0m\u001b[0;34m\u001b[0m\u001b[0m\n",
      "\u001b[0;32m~/Documents/Reference/G/github/HonorsThesis-TikTok/transCSSR-master/transCSSR.py\u001b[0m in \u001b[0;36mfilter_and_pred_probs\u001b[0;34m(stringX, stringY, machine_fname, transducer_fname, axs, ays, inf_alg, M_states_to_index, T_states_to_index, M_trans, T_trans, stationary_dist_mixed, stationary_dist_eT, verbose_filtering_errors)\u001b[0m\n\u001b[1;32m   4460\u001b[0m                                 \u001b[0mactive_mixed_states_boolean\u001b[0m \u001b[0;34m=\u001b[0m \u001b[0mstationary_dist_mixed\u001b[0m \u001b[0;34m>\u001b[0m \u001b[0;36m0\u001b[0m\u001b[0;34m\u001b[0m\u001b[0;34m\u001b[0m\u001b[0m\n\u001b[1;32m   4461\u001b[0m \u001b[0;34m\u001b[0m\u001b[0m\n\u001b[0;32m-> 4462\u001b[0;31m                                 \u001b[0mp_eT_mixed\u001b[0m \u001b[0;34m=\u001b[0m \u001b[0mnumpy\u001b[0m\u001b[0;34m.\u001b[0m\u001b[0mones\u001b[0m\u001b[0;34m(\u001b[0m\u001b[0mlen\u001b[0m\u001b[0;34m(\u001b[0m\u001b[0mstationary_dist_mixed\u001b[0m\u001b[0;34m)\u001b[0m\u001b[0;34m)\u001b[0m\u001b[0;34m\u001b[0m\u001b[0;34m\u001b[0m\u001b[0m\n\u001b[0m\u001b[1;32m   4463\u001b[0m                                 \u001b[0mp_eM_mixed\u001b[0m \u001b[0;34m=\u001b[0m \u001b[0mnumpy\u001b[0m\u001b[0;34m.\u001b[0m\u001b[0mones\u001b[0m\u001b[0;34m(\u001b[0m\u001b[0mlen\u001b[0m\u001b[0;34m(\u001b[0m\u001b[0mstationary_dist_mixed\u001b[0m\u001b[0;34m)\u001b[0m\u001b[0;34m)\u001b[0m\u001b[0;34m\u001b[0m\u001b[0;34m\u001b[0m\u001b[0m\n\u001b[1;32m   4464\u001b[0m \u001b[0;34m\u001b[0m\u001b[0m\n",
      "\u001b[0;32m/usr/local/anaconda3/lib/python3.8/site-packages/numpy/core/numeric.py\u001b[0m in \u001b[0;36mones\u001b[0;34m(shape, dtype, order, like)\u001b[0m\n\u001b[1;32m    202\u001b[0m \u001b[0;34m\u001b[0m\u001b[0m\n\u001b[1;32m    203\u001b[0m     \u001b[0ma\u001b[0m \u001b[0;34m=\u001b[0m \u001b[0mempty\u001b[0m\u001b[0;34m(\u001b[0m\u001b[0mshape\u001b[0m\u001b[0;34m,\u001b[0m \u001b[0mdtype\u001b[0m\u001b[0;34m,\u001b[0m \u001b[0morder\u001b[0m\u001b[0;34m)\u001b[0m\u001b[0;34m\u001b[0m\u001b[0;34m\u001b[0m\u001b[0m\n\u001b[0;32m--> 204\u001b[0;31m     \u001b[0mmultiarray\u001b[0m\u001b[0;34m.\u001b[0m\u001b[0mcopyto\u001b[0m\u001b[0;34m(\u001b[0m\u001b[0ma\u001b[0m\u001b[0;34m,\u001b[0m \u001b[0;36m1\u001b[0m\u001b[0;34m,\u001b[0m \u001b[0mcasting\u001b[0m\u001b[0;34m=\u001b[0m\u001b[0;34m'unsafe'\u001b[0m\u001b[0;34m)\u001b[0m\u001b[0;34m\u001b[0m\u001b[0;34m\u001b[0m\u001b[0m\n\u001b[0m\u001b[1;32m    205\u001b[0m     \u001b[0;32mreturn\u001b[0m \u001b[0ma\u001b[0m\u001b[0;34m\u001b[0m\u001b[0;34m\u001b[0m\u001b[0m\n\u001b[1;32m    206\u001b[0m \u001b[0;34m\u001b[0m\u001b[0m\n",
      "\u001b[0;32m<__array_function__ internals>\u001b[0m in \u001b[0;36mcopyto\u001b[0;34m(*args, **kwargs)\u001b[0m\n",
      "\u001b[0;31mKeyboardInterrupt\u001b[0m: "
     ]
    }
   ],
   "source": [
    "LLGAM = []\n",
    "LLCSSR = []\n",
    "\n",
    "LL = []\n",
    "# 23, 99\n",
    "for i in range(24, 99):\n",
    "#for i in range(4,20):\n",
    "#for i in [8]:\n",
    "    data_prefix = ''\n",
    "    Yt_name = ('user%s' % i)\n",
    "    Xt_name = ''\n",
    "\n",
    "    machine_fname = '+.dot'\n",
    "    transducer_fname = '+{}.dot'.format(Yt_name)\n",
    "\n",
    "    # %%%%%%%%%%%%%%%%%%%%%%%%%%%%%%%%%%%%%%%%%%%%%%%%%%%%%%%%%%\n",
    "\n",
    "    stringYs = open(('Training&Testing/TestingData/Test-%s.txt' % i).format(data_prefix, Yt_name)).readlines()\n",
    "\n",
    "    stringY = \"\"\n",
    "\n",
    "    for y in stringYs:\n",
    "        stringY += y.strip()\n",
    "    \n",
    "\n",
    "    if Xt_name == '':\n",
    "        stringX = '0'*len(stringY)\n",
    "    else:\n",
    "        stringX = open(('Training&Testing/TestingData/Test-%s.txt' % i).format(data_prefix, Xt_name)).readline().strip()\n",
    "    \n",
    "    # %%%%%%%%%%%%%%%%%%%%%%%%%%%%%%%%%%%%%%%%%%%%%%%%%%%%%%%%%%\n",
    "    #print(stringY)\n",
    "\n",
    "    axs = ['0']\n",
    "    ays = ['0', '1']\n",
    "    \n",
    "    print(\"Starting filtering code with CSSR...\")\n",
    "    \n",
    "    pred_probs_by_time, cur_states_by_time = filter_and_pred_probs(stringX, stringY, 'transCSSR_results/' + machine_fname, 'transCSSR_results/' + transducer_fname, axs, ays, inf_alg='transCSSR')\n",
    "    \n",
    "    print(\"Done filtering code with CSSR...\")\n",
    "\n",
    "    # %%%%%%%%%%%%%%%%%%%%%%%%%%%%%%%%%%%%%%%%%%%%%%%%%%%%%%%%%%\n",
    "    \n",
    "    stringY = list(stringY)\n",
    "    \n",
    "    probs = pred_probs_by_time[:,1]\n",
    "    \n",
    "    # %%%%%%%%%%%%%%%%%%%%%%%%%%%%%%%%%%%%%%%%%%%%%%%%%%%%%%%%%%\n",
    "    gamdata = stringY[0:4368]\n",
    "\n",
    "        \n",
    "    gamprobs = np.loadtxt(('../GAM/Train-Model/predTrain-%s.txt' % i).format(data_prefix, Yt_name))\n",
    "    GAMprobs = np.repeat(gamprobs[:, 1], 13)   \n",
    "    # %%%%%%%%%%%%%%%%%%%%%%%%%%%%%%%%%%%%%%%%%%%%%%%%%%%%%%%%%%\n",
    "    \n",
    "\n",
    "    CSSRloss = sklearn.metrics.log_loss(stringY, probs, eps=1e-15, normalize=True, sample_weight=None, labels=['0', '1'])\n",
    "    GAMloss = sklearn.metrics.log_loss(gamdata, GAMprobs, eps=1e-15, normalize=True, sample_weight=None, labels=['0', '1'])\n",
    "    \n",
    "    LLGAM.append(GAMloss)\n",
    "    LLCSSR.append(CSSRloss)\n",
    "\n",
    "LL=[LLGAM, LLCSSR]"
   ]
  },
  {
   "cell_type": "code",
   "execution_count": 5,
   "id": "dominican-integration",
   "metadata": {},
   "outputs": [
    {
     "data": {
      "text/plain": [
       "0.01643597551153665"
      ]
     },
     "execution_count": 5,
     "metadata": {},
     "output_type": "execute_result"
    }
   ],
   "source": [
    "CSSRloss"
   ]
  },
  {
   "cell_type": "code",
   "execution_count": 6,
   "id": "original-strip",
   "metadata": {},
   "outputs": [
    {
     "data": {
      "text/plain": [
       "0.006281159954918119"
      ]
     },
     "execution_count": 6,
     "metadata": {},
     "output_type": "execute_result"
    }
   ],
   "source": [
    "GAMloss"
   ]
  },
  {
   "cell_type": "code",
   "execution_count": 38,
   "id": "stopped-multiple",
   "metadata": {},
   "outputs": [
    {
     "data": {
      "text/plain": [
       "[[0.10891178123973783,\n",
       "  0.04438720481983174,\n",
       "  0.09443089315940788,\n",
       "  0.004018555236425262,\n",
       "  0.0886374840874676,\n",
       "  0.08529475395163753,\n",
       "  0.0790714130471213,\n",
       "  0.00023105767318268126,\n",
       "  0.09472023268191104,\n",
       "  0.0803018366270423,\n",
       "  0.28826351159672436,\n",
       "  0.050497287868023676,\n",
       "  0.05396190670033619,\n",
       "  0.04714755504876257,\n",
       "  0.053501834966828254,\n",
       "  0.11400959146289756,\n",
       "  0.05862273655594275,\n",
       "  0.023274339253306173,\n",
       "  0.08692927710292869,\n",
       "  0.22930964181602884,\n",
       "  0.16721148928843882,\n",
       "  0.007768789396989599,\n",
       "  0.0366206030664359,\n",
       "  0.05165619353043108,\n",
       "  0.01354044381042943,\n",
       "  0.026437574443757023,\n",
       "  0.02158620246311169,\n",
       "  0.06789691592920186,\n",
       "  0.0047202506889206285,\n",
       "  0.06170962676711224,\n",
       "  0.10530806795321726,\n",
       "  0.040864421385912474,\n",
       "  0.38018383406575956,\n",
       "  0.12514582786535947,\n",
       "  0.007907229028139891,\n",
       "  0.1018983198978599,\n",
       "  0.10899252516396185],\n",
       " [0.06446422018106979,\n",
       "  0.015384923008188783,\n",
       "  0.06421051538796899,\n",
       "  0.0002289639391800122,\n",
       "  0.07573072623666682,\n",
       "  0.0648372560097087,\n",
       "  0.06863647886807038,\n",
       "  0.002063101705611721,\n",
       "  0.07541310539768174,\n",
       "  0.07974839255960686,\n",
       "  0.23935062168258053,\n",
       "  0.03643503281049622,\n",
       "  0.04949587205319501,\n",
       "  0.04387913073152809,\n",
       "  0.043504668159393675,\n",
       "  0.11898471590181332,\n",
       "  0.042854350817980065,\n",
       "  0.019501957037410644,\n",
       "  0.07819289012060075,\n",
       "  0.03842922431818408,\n",
       "  0.14390187739167107,\n",
       "  0.0033512337455946437,\n",
       "  0.031757123630468224,\n",
       "  0.039984423272501034,\n",
       "  0.012577485891964306,\n",
       "  0.025494275358246506,\n",
       "  0.006057031300079764,\n",
       "  0.06459629580473603,\n",
       "  0.005164477313227303,\n",
       "  0.05952164020002057,\n",
       "  0.0850284905335187,\n",
       "  0.04556413365959595,\n",
       "  0.19568095121008974,\n",
       "  0.12139734115810409,\n",
       "  0.0023170148024147606,\n",
       "  0.09532771121290265,\n",
       "  0.08629690755689412]]"
      ]
     },
     "execution_count": 38,
     "metadata": {},
     "output_type": "execute_result"
    }
   ],
   "source": [
    "LL"
   ]
  },
  {
   "cell_type": "code",
   "execution_count": 42,
   "id": "solar-republic",
   "metadata": {},
   "outputs": [],
   "source": [
    "np.savetxt(\"data24-98.txt\", LL, newline = \"\\n\")"
   ]
  }
 ],
 "metadata": {
  "kernelspec": {
   "display_name": "Python 3",
   "language": "python",
   "name": "python3"
  },
  "language_info": {
   "codemirror_mode": {
    "name": "ipython",
    "version": 3
   },
   "file_extension": ".py",
   "mimetype": "text/x-python",
   "name": "python",
   "nbconvert_exporter": "python",
   "pygments_lexer": "ipython3",
   "version": "3.8.8"
  }
 },
 "nbformat": 4,
 "nbformat_minor": 5
}
