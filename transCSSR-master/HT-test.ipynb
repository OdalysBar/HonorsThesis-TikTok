{
 "cells": [
  {
   "cell_type": "markdown",
   "metadata": {},
   "source": [
    "# transCSSR Testing"
   ]
  },
  {
   "cell_type": "code",
   "execution_count": 1,
   "metadata": {},
   "outputs": [],
   "source": [
    "# This magic command makes plots interactive\n",
    "%matplotlib notebook\n",
    "#%matplotlib widget\n",
    "\n",
    "from transCSSR import *\n",
    "import matplotlib.pyplot as plt\n",
    "\n",
    "import graphviz\n",
    "from sklearn.metrics import log_loss\n",
    "\n",
    "import itertools\n",
    "\n",
    "import numpy as np\n",
    "\n",
    "import sklearn.metrics"
   ]
  },
  {
   "cell_type": "code",
   "execution_count": 4,
   "metadata": {},
   "outputs": [],
   "source": [
    "LLGAM = []\n",
    "LLCSSR = []\n",
    "\n",
    "LL = []\n",
    "\n",
    "#for i in range(1,137):\n",
    "#for i in range(4,10):\n",
    "for i in [8]:\n",
    "    data_prefix = ''\n",
    "    Yt_name = ('user%s' % i)\n",
    "    Xt_name = ''\n",
    "\n",
    "    machine_fname = '+.dot'\n",
    "    transducer_fname = '+{}.dot'.format(Yt_name)\n",
    "\n",
    "    # %%%%%%%%%%%%%%%%%%%%%%%%%%%%%%%%%%%%%%%%%%%%%%%%%%%%%%%%%%\n",
    "\n",
    "    stringYs = open(('Training&Testing/TestingData/Test-%s.txt' % i).format(data_prefix, Yt_name)).readlines()\n",
    "\n",
    "    stringY = \"\"\n",
    "\n",
    "    for y in stringYs:\n",
    "        stringY += y.strip()\n",
    "    \n",
    "\n",
    "    if Xt_name == '':\n",
    "        stringX = '0'*len(stringY)\n",
    "    else:\n",
    "        stringX = open(('Training&Testing/TestingData/Test-%s.txt' % i).format(data_prefix, Xt_name)).readline().strip()\n",
    "    \n",
    "    # %%%%%%%%%%%%%%%%%%%%%%%%%%%%%%%%%%%%%%%%%%%%%%%%%%%%%%%%%%\n",
    "    #print(stringY)\n",
    "\n",
    "    axs = ['0']\n",
    "    ays = ['0', '1']\n",
    "\n",
    "    pred_probs_by_time, cur_states_by_time = filter_and_pred_probs(stringX, stringY, 'transCSSR_results/' + machine_fname, 'transCSSR_results/' + transducer_fname, axs, ays, inf_alg='transCSSR')\n",
    "\n",
    "    # %%%%%%%%%%%%%%%%%%%%%%%%%%%%%%%%%%%%%%%%%%%%%%%%%%%%%%%%%%\n",
    "    \n",
    "    stringY = list(stringY)\n",
    "    \n",
    "    probs = pred_probs_by_time[:,1]\n",
    "    \n",
    "    # %%%%%%%%%%%%%%%%%%%%%%%%%%%%%%%%%%%%%%%%%%%%%%%%%%%%%%%%%%\n",
    "    gamdata = stringY[0:4368]\n",
    "\n",
    "        \n",
    "    gamprobs = np.loadtxt(('../GAM/Train-Model/predTrain-%s.txt' % i).format(data_prefix, Yt_name))\n",
    "    GAMprobs = np.repeat(gamprobs[:, 1], 13)   \n",
    "    # %%%%%%%%%%%%%%%%%%%%%%%%%%%%%%%%%%%%%%%%%%%%%%%%%%%%%%%%%%\n",
    "    \n",
    "\n",
    "    CSSRloss = sklearn.metrics.log_loss(stringY, probs, eps=1e-15, normalize=True, sample_weight=None, labels=['0', '1'])\n",
    "    GAMloss = sklearn.metrics.log_loss(gamdata, GAMprobs, eps=1e-15, normalize=True, sample_weight=None, labels=['0', '1'])\n",
    "    \n",
    "    LLGAM.append(GAMloss)\n",
    "    LLCSSR.append(CSSRloss)\n",
    "\n",
    "LL=[LLGAM, LLCSSR]\n",
    "\n",
    "\n"
   ]
  },
  {
   "cell_type": "code",
   "execution_count": 5,
   "metadata": {},
   "outputs": [
    {
     "data": {
      "text/plain": [
       "0.01643597551153665"
      ]
     },
     "execution_count": 5,
     "metadata": {},
     "output_type": "execute_result"
    }
   ],
   "source": [
    "CSSRloss"
   ]
  },
  {
   "cell_type": "code",
   "execution_count": 6,
   "metadata": {},
   "outputs": [
    {
     "data": {
      "text/plain": [
       "0.006281159954918119"
      ]
     },
     "execution_count": 6,
     "metadata": {},
     "output_type": "execute_result"
    }
   ],
   "source": [
    "GAMloss"
   ]
  },
  {
   "cell_type": "code",
   "execution_count": 7,
   "metadata": {},
   "outputs": [
    {
     "data": {
      "text/plain": [
       "[[0.006281159954918119], [0.01643597551153665]]"
      ]
     },
     "execution_count": 7,
     "metadata": {},
     "output_type": "execute_result"
    }
   ],
   "source": [
    "LL"
   ]
  },
  {
   "cell_type": "code",
   "execution_count": null,
   "metadata": {},
   "outputs": [],
   "source": []
  }
 ],
 "metadata": {
  "kernelspec": {
   "display_name": "Python 3",
   "language": "python",
   "name": "python3"
  },
  "language_info": {
   "codemirror_mode": {
    "name": "ipython",
    "version": 3
   },
   "file_extension": ".py",
   "mimetype": "text/x-python",
   "name": "python",
   "nbconvert_exporter": "python",
   "pygments_lexer": "ipython3",
   "version": "3.8.5"
  }
 },
 "nbformat": 4,
 "nbformat_minor": 5
}
