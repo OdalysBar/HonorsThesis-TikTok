{
 "cells": [
  {
   "cell_type": "markdown",
   "id": "trained-width",
   "metadata": {},
   "source": [
    "# transCSSR Testing"
   ]
  },
  {
   "cell_type": "code",
   "execution_count": 117,
   "id": "incorporate-playback",
   "metadata": {},
   "outputs": [],
   "source": [
    "# This magic command makes plots interactive\n",
    "%matplotlib notebook\n",
    "#%matplotlib widget\n",
    "\n",
    "from transCSSR import *\n",
    "import matplotlib.pyplot as plt\n",
    "\n",
    "import graphviz\n",
    "from sklearn.metrics import log_loss\n",
    "\n",
    "import itertools\n",
    "\n",
    "import numpy as np\n",
    "\n",
    "import sklearn.metrics"
   ]
  },
  {
   "cell_type": "code",
   "execution_count": 239,
   "id": "productive-blackberry",
   "metadata": {},
   "outputs": [
    {
     "ename": "ValueError",
     "evalue": "y_true contains only one label (0). Please provide the true labels explicitly through the labels argument.",
     "output_type": "error",
     "traceback": [
      "\u001b[0;31m---------------------------------------------------------------------------\u001b[0m",
      "\u001b[0;31mValueError\u001b[0m                                Traceback (most recent call last)",
      "\u001b[0;32m<ipython-input-239-f8e565138e77>\u001b[0m in \u001b[0;36m<module>\u001b[0;34m\u001b[0m\n\u001b[1;32m     52\u001b[0m \u001b[0;34m\u001b[0m\u001b[0m\n\u001b[1;32m     53\u001b[0m \u001b[0;34m\u001b[0m\u001b[0m\n\u001b[0;32m---> 54\u001b[0;31m     \u001b[0mCSSRloss\u001b[0m \u001b[0;34m=\u001b[0m \u001b[0msklearn\u001b[0m\u001b[0;34m.\u001b[0m\u001b[0mmetrics\u001b[0m\u001b[0;34m.\u001b[0m\u001b[0mlog_loss\u001b[0m\u001b[0;34m(\u001b[0m\u001b[0mstringY\u001b[0m\u001b[0;34m,\u001b[0m \u001b[0mprobs\u001b[0m\u001b[0;34m,\u001b[0m \u001b[0meps\u001b[0m\u001b[0;34m=\u001b[0m\u001b[0;36m1e-15\u001b[0m\u001b[0;34m,\u001b[0m \u001b[0mnormalize\u001b[0m\u001b[0;34m=\u001b[0m\u001b[0;32mTrue\u001b[0m\u001b[0;34m,\u001b[0m \u001b[0msample_weight\u001b[0m\u001b[0;34m=\u001b[0m\u001b[0;32mNone\u001b[0m\u001b[0;34m,\u001b[0m \u001b[0mlabels\u001b[0m\u001b[0;34m=\u001b[0m\u001b[0;32mNone\u001b[0m\u001b[0;34m)\u001b[0m\u001b[0;34m\u001b[0m\u001b[0;34m\u001b[0m\u001b[0m\n\u001b[0m\u001b[1;32m     55\u001b[0m     \u001b[0mGAMloss\u001b[0m \u001b[0;34m=\u001b[0m \u001b[0msklearn\u001b[0m\u001b[0;34m.\u001b[0m\u001b[0mmetrics\u001b[0m\u001b[0;34m.\u001b[0m\u001b[0mlog_loss\u001b[0m\u001b[0;34m(\u001b[0m\u001b[0mgamdata\u001b[0m\u001b[0;34m,\u001b[0m \u001b[0mGAMprobs\u001b[0m\u001b[0;34m,\u001b[0m \u001b[0meps\u001b[0m\u001b[0;34m=\u001b[0m\u001b[0;36m1e-15\u001b[0m\u001b[0;34m,\u001b[0m \u001b[0mnormalize\u001b[0m\u001b[0;34m=\u001b[0m\u001b[0;32mTrue\u001b[0m\u001b[0;34m,\u001b[0m \u001b[0msample_weight\u001b[0m\u001b[0;34m=\u001b[0m\u001b[0;32mNone\u001b[0m\u001b[0;34m,\u001b[0m \u001b[0mlabels\u001b[0m\u001b[0;34m=\u001b[0m\u001b[0;32mNone\u001b[0m\u001b[0;34m)\u001b[0m\u001b[0;34m\u001b[0m\u001b[0;34m\u001b[0m\u001b[0m\n\u001b[1;32m     56\u001b[0m \u001b[0;34m\u001b[0m\u001b[0m\n",
      "\u001b[0;32m~/opt/anaconda3/lib/python3.8/site-packages/sklearn/utils/validation.py\u001b[0m in \u001b[0;36minner_f\u001b[0;34m(*args, **kwargs)\u001b[0m\n\u001b[1;32m     61\u001b[0m             \u001b[0mextra_args\u001b[0m \u001b[0;34m=\u001b[0m \u001b[0mlen\u001b[0m\u001b[0;34m(\u001b[0m\u001b[0margs\u001b[0m\u001b[0;34m)\u001b[0m \u001b[0;34m-\u001b[0m \u001b[0mlen\u001b[0m\u001b[0;34m(\u001b[0m\u001b[0mall_args\u001b[0m\u001b[0;34m)\u001b[0m\u001b[0;34m\u001b[0m\u001b[0;34m\u001b[0m\u001b[0m\n\u001b[1;32m     62\u001b[0m             \u001b[0;32mif\u001b[0m \u001b[0mextra_args\u001b[0m \u001b[0;34m<=\u001b[0m \u001b[0;36m0\u001b[0m\u001b[0;34m:\u001b[0m\u001b[0;34m\u001b[0m\u001b[0;34m\u001b[0m\u001b[0m\n\u001b[0;32m---> 63\u001b[0;31m                 \u001b[0;32mreturn\u001b[0m \u001b[0mf\u001b[0m\u001b[0;34m(\u001b[0m\u001b[0;34m*\u001b[0m\u001b[0margs\u001b[0m\u001b[0;34m,\u001b[0m \u001b[0;34m**\u001b[0m\u001b[0mkwargs\u001b[0m\u001b[0;34m)\u001b[0m\u001b[0;34m\u001b[0m\u001b[0;34m\u001b[0m\u001b[0m\n\u001b[0m\u001b[1;32m     64\u001b[0m \u001b[0;34m\u001b[0m\u001b[0m\n\u001b[1;32m     65\u001b[0m             \u001b[0;31m# extra_args > 0\u001b[0m\u001b[0;34m\u001b[0m\u001b[0;34m\u001b[0m\u001b[0;34m\u001b[0m\u001b[0m\n",
      "\u001b[0;32m~/opt/anaconda3/lib/python3.8/site-packages/sklearn/metrics/_classification.py\u001b[0m in \u001b[0;36mlog_loss\u001b[0;34m(y_true, y_pred, eps, normalize, sample_weight, labels)\u001b[0m\n\u001b[1;32m   2235\u001b[0m     \u001b[0;32mif\u001b[0m \u001b[0mlen\u001b[0m\u001b[0;34m(\u001b[0m\u001b[0mlb\u001b[0m\u001b[0;34m.\u001b[0m\u001b[0mclasses_\u001b[0m\u001b[0;34m)\u001b[0m \u001b[0;34m==\u001b[0m \u001b[0;36m1\u001b[0m\u001b[0;34m:\u001b[0m\u001b[0;34m\u001b[0m\u001b[0;34m\u001b[0m\u001b[0m\n\u001b[1;32m   2236\u001b[0m         \u001b[0;32mif\u001b[0m \u001b[0mlabels\u001b[0m \u001b[0;32mis\u001b[0m \u001b[0;32mNone\u001b[0m\u001b[0;34m:\u001b[0m\u001b[0;34m\u001b[0m\u001b[0;34m\u001b[0m\u001b[0m\n\u001b[0;32m-> 2237\u001b[0;31m             raise ValueError('y_true contains only one label ({0}). Please '\n\u001b[0m\u001b[1;32m   2238\u001b[0m                              \u001b[0;34m'provide the true labels explicitly through the '\u001b[0m\u001b[0;34m\u001b[0m\u001b[0;34m\u001b[0m\u001b[0m\n\u001b[1;32m   2239\u001b[0m                              'labels argument.'.format(lb.classes_[0]))\n",
      "\u001b[0;31mValueError\u001b[0m: y_true contains only one label (0). Please provide the true labels explicitly through the labels argument."
     ]
    }
   ],
   "source": [
    "LLGAM = []\n",
    "LLCSSR = []\n",
    "\n",
    "LL = []\n",
    "\n",
    "#for i in range(1,137):\n",
    "#for i in range(4,10):\n",
    "for i in [8]:\n",
    "    data_prefix = ''\n",
    "    Yt_name = ('user%s' % i)\n",
    "    Xt_name = ''\n",
    "\n",
    "    machine_fname = '+.dot'\n",
    "    transducer_fname = '+{}.dot'.format(Yt_name)\n",
    "\n",
    "    # %%%%%%%%%%%%%%%%%%%%%%%%%%%%%%%%%%%%%%%%%%%%%%%%%%%%%%%%%%\n",
    "\n",
    "    stringYs = open(('Training&Testing/TestingData/Test-%s.txt' % i).format(data_prefix, Yt_name)).readlines()\n",
    "\n",
    "    stringY = \"\"\n",
    "\n",
    "    for y in stringYs:\n",
    "        stringY += y.strip()\n",
    "    \n",
    "\n",
    "    if Xt_name == '':\n",
    "        stringX = '0'*len(stringY)\n",
    "    else:\n",
    "        stringX = open(('Training&Testing/TestingData/Test-%s.txt' % i).format(data_prefix, Xt_name)).readline().strip()\n",
    "    \n",
    "    # %%%%%%%%%%%%%%%%%%%%%%%%%%%%%%%%%%%%%%%%%%%%%%%%%%%%%%%%%%\n",
    "    #print(stringY)\n",
    "\n",
    "    axs = ['0']\n",
    "    ays = ['0', '1']\n",
    "\n",
    "    pred_probs_by_time, cur_states_by_time = filter_and_pred_probs(stringX, stringY, 'transCSSR_results/' + machine_fname, 'transCSSR_results/' + transducer_fname, axs, ays, inf_alg='transCSSR')\n",
    "\n",
    "    # %%%%%%%%%%%%%%%%%%%%%%%%%%%%%%%%%%%%%%%%%%%%%%%%%%%%%%%%%%\n",
    "    \n",
    "    stringY = list(stringY)\n",
    "    \n",
    "    probs = pred_probs_by_time[:,1]\n",
    "    \n",
    "    # %%%%%%%%%%%%%%%%%%%%%%%%%%%%%%%%%%%%%%%%%%%%%%%%%%%%%%%%%%\n",
    "    gamdata = stringY[0:4368]\n",
    "\n",
    "        \n",
    "    gamprobs = np.loadtxt(('/Users/odalysbar/Documents/HonorsThesis/HonorsThesis-TikTok/GAM/Train-Model/predTrain-%s.txt' % i).format(data_prefix, Yt_name))\n",
    "    GAMprobs = np.repeat(gamprobs[:, 1], 13)   \n",
    "    # %%%%%%%%%%%%%%%%%%%%%%%%%%%%%%%%%%%%%%%%%%%%%%%%%%%%%%%%%%\n",
    "    \n",
    "\n",
    "    CSSRloss = sklearn.metrics.log_loss(stringY, probs, eps=1e-15, normalize=True, sample_weight=None, labels=None)\n",
    "    GAMloss = sklearn.metrics.log_loss(gamdata, GAMprobs, eps=1e-15, normalize=True, sample_weight=None, labels=None)\n",
    "    \n",
    "    LLGAM.append(GAMloss)\n",
    "    LLCSSR.append(CSSRloss)\n",
    "\n",
    "LL=[LLGAM, LLCSSR]\n",
    "\n",
    "\n"
   ]
  },
  {
   "cell_type": "code",
   "execution_count": 209,
   "id": "driving-compilation",
   "metadata": {},
   "outputs": [
    {
     "data": {
      "text/plain": [
       "0.1528900496288206"
      ]
     },
     "execution_count": 209,
     "metadata": {},
     "output_type": "execute_result"
    }
   ],
   "source": [
    "CSSRloss"
   ]
  },
  {
   "cell_type": "code",
   "execution_count": 212,
   "id": "boring-storm",
   "metadata": {},
   "outputs": [
    {
     "data": {
      "text/plain": [
       "0.1648437989870007"
      ]
     },
     "execution_count": 212,
     "metadata": {},
     "output_type": "execute_result"
    }
   ],
   "source": [
    "GAMloss"
   ]
  },
  {
   "cell_type": "code",
   "execution_count": 236,
   "id": "center-lafayette",
   "metadata": {},
   "outputs": [
    {
     "data": {
      "text/plain": [
       "[[0.05740536207825428], [0.053162053864656854]]"
      ]
     },
     "execution_count": 236,
     "metadata": {},
     "output_type": "execute_result"
    }
   ],
   "source": [
    "LL"
   ]
  }
 ],
 "metadata": {
  "kernelspec": {
   "display_name": "Python 3",
   "language": "python",
   "name": "python3"
  },
  "language_info": {
   "codemirror_mode": {
    "name": "ipython",
    "version": 3
   },
   "file_extension": ".py",
   "mimetype": "text/x-python",
   "name": "python",
   "nbconvert_exporter": "python",
   "pygments_lexer": "ipython3",
   "version": "3.8.3"
  }
 },
 "nbformat": 4,
 "nbformat_minor": 5
}
