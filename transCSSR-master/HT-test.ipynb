{
 "cells": [
  {
   "cell_type": "markdown",
   "id": "trained-width",
   "metadata": {},
   "source": [
    "# transCSSR Saving Probabilities"
   ]
  },
  {
   "cell_type": "code",
   "execution_count": 1,
   "id": "incorporate-playback",
   "metadata": {},
   "outputs": [],
   "source": [
    "# This magic command makes plots interactive\n",
    "%matplotlib notebook\n",
    "#%matplotlib widget\n",
    "\n",
    "from transCSSR import *\n",
    "import matplotlib.pyplot as plt\n",
    "\n",
    "import graphviz\n",
    "from sklearn.metrics import log_loss\n",
    "\n",
    "import itertools\n",
    "\n",
    "import numpy as np"
   ]
  },
  {
   "cell_type": "code",
   "execution_count": 27,
   "id": "productive-blackberry",
   "metadata": {},
   "outputs": [
    {
     "ename": "KeyboardInterrupt",
     "evalue": "",
     "output_type": "error",
     "traceback": [
      "\u001b[0;31m---------------------------------------------------------------------------\u001b[0m",
      "\u001b[0;31mKeyboardInterrupt\u001b[0m                         Traceback (most recent call last)",
      "\u001b[0;32m<ipython-input-27-5268efe08b4c>\u001b[0m in \u001b[0;36m<module>\u001b[0;34m\u001b[0m\n\u001b[1;32m     28\u001b[0m     \u001b[0mays\u001b[0m \u001b[0;34m=\u001b[0m \u001b[0;34m[\u001b[0m\u001b[0;34m'0'\u001b[0m\u001b[0;34m,\u001b[0m \u001b[0;34m'1'\u001b[0m\u001b[0;34m]\u001b[0m\u001b[0;34m\u001b[0m\u001b[0;34m\u001b[0m\u001b[0m\n\u001b[1;32m     29\u001b[0m \u001b[0;34m\u001b[0m\u001b[0m\n\u001b[0;32m---> 30\u001b[0;31m     \u001b[0mpred_probs_by_time\u001b[0m\u001b[0;34m,\u001b[0m \u001b[0mcur_states_by_time\u001b[0m \u001b[0;34m=\u001b[0m \u001b[0mfilter_and_pred_probs\u001b[0m\u001b[0;34m(\u001b[0m\u001b[0mstringX\u001b[0m\u001b[0;34m,\u001b[0m \u001b[0mstringY\u001b[0m\u001b[0;34m,\u001b[0m \u001b[0;34m'transCSSR_results/'\u001b[0m \u001b[0;34m+\u001b[0m \u001b[0mmachine_fname\u001b[0m\u001b[0;34m,\u001b[0m \u001b[0;34m'transCSSR_results/'\u001b[0m \u001b[0;34m+\u001b[0m \u001b[0mtransducer_fname\u001b[0m\u001b[0;34m,\u001b[0m \u001b[0maxs\u001b[0m\u001b[0;34m,\u001b[0m \u001b[0mays\u001b[0m\u001b[0;34m,\u001b[0m \u001b[0minf_alg\u001b[0m\u001b[0;34m=\u001b[0m\u001b[0;34m'transCSSR'\u001b[0m\u001b[0;34m)\u001b[0m\u001b[0;34m\u001b[0m\u001b[0;34m\u001b[0m\u001b[0m\n\u001b[0m\u001b[1;32m     31\u001b[0m     \u001b[0;31m#np.savetxt(\"cssr-probs-%s.txt\" % i ,pred_probs_by_time , fmt=\"%s\")\u001b[0m\u001b[0;34m\u001b[0m\u001b[0;34m\u001b[0m\u001b[0;34m\u001b[0m\u001b[0m\n\u001b[1;32m     32\u001b[0m \u001b[0;34m\u001b[0m\u001b[0m\n",
      "\u001b[0;32m~/Documents/HonorsThesis/HonorsThesis-TikTok/transCSSR-master/transCSSR.py\u001b[0m in \u001b[0;36mfilter_and_pred_probs\u001b[0;34m(stringX, stringY, machine_fname, transducer_fname, axs, ays, inf_alg, M_states_to_index, T_states_to_index, M_trans, T_trans, stationary_dist_mixed, stationary_dist_eT, verbose_filtering_errors)\u001b[0m\n\u001b[1;32m   4468\u001b[0m                                 \u001b[0;32mfor\u001b[0m \u001b[0mstart_state_index\u001b[0m \u001b[0;32min\u001b[0m \u001b[0mmixed_states_array\u001b[0m\u001b[0;34m[\u001b[0m\u001b[0mactive_mixed_states_boolean\u001b[0m\u001b[0;34m]\u001b[0m\u001b[0;34m:\u001b[0m\u001b[0;34m\u001b[0m\u001b[0;34m\u001b[0m\u001b[0m\n\u001b[1;32m   4469\u001b[0m                                         \u001b[0mT_start_state\u001b[0m \u001b[0;34m=\u001b[0m \u001b[0mT_states\u001b[0m\u001b[0;34m[\u001b[0m\u001b[0mint\u001b[0m\u001b[0;34m(\u001b[0m\u001b[0mnumpy\u001b[0m\u001b[0;34m.\u001b[0m\u001b[0mfloor\u001b[0m\u001b[0;34m(\u001b[0m\u001b[0mstart_state_index\u001b[0m\u001b[0;34m/\u001b[0m\u001b[0mfloat\u001b[0m\u001b[0;34m(\u001b[0m\u001b[0mlen\u001b[0m\u001b[0;34m(\u001b[0m\u001b[0mM_states\u001b[0m\u001b[0;34m)\u001b[0m\u001b[0;34m)\u001b[0m\u001b[0;34m)\u001b[0m\u001b[0;34m)\u001b[0m\u001b[0;34m]\u001b[0m\u001b[0;34m\u001b[0m\u001b[0;34m\u001b[0m\u001b[0m\n\u001b[0;32m-> 4470\u001b[0;31m                                         \u001b[0mM_start_state\u001b[0m \u001b[0;34m=\u001b[0m \u001b[0mM_states\u001b[0m\u001b[0;34m[\u001b[0m\u001b[0mint\u001b[0m\u001b[0;34m(\u001b[0m\u001b[0mstart_state_index\u001b[0m \u001b[0;34m-\u001b[0m \u001b[0mnumpy\u001b[0m\u001b[0;34m.\u001b[0m\u001b[0mfloor\u001b[0m\u001b[0;34m(\u001b[0m\u001b[0mstart_state_index\u001b[0m\u001b[0;34m/\u001b[0m\u001b[0mfloat\u001b[0m\u001b[0;34m(\u001b[0m\u001b[0mlen\u001b[0m\u001b[0;34m(\u001b[0m\u001b[0mM_states\u001b[0m\u001b[0;34m)\u001b[0m\u001b[0;34m)\u001b[0m\u001b[0;34m)\u001b[0m\u001b[0;34m*\u001b[0m\u001b[0mlen\u001b[0m\u001b[0;34m(\u001b[0m\u001b[0mM_states\u001b[0m\u001b[0;34m)\u001b[0m\u001b[0;34m)\u001b[0m\u001b[0;34m]\u001b[0m\u001b[0;34m\u001b[0m\u001b[0;34m\u001b[0m\u001b[0m\n\u001b[0m\u001b[1;32m   4471\u001b[0m \u001b[0;34m\u001b[0m\u001b[0m\n\u001b[1;32m   4472\u001b[0m                                         \u001b[0mT_state_from_mixed\u001b[0m\u001b[0;34m[\u001b[0m\u001b[0mstart_state_index\u001b[0m\u001b[0;34m]\u001b[0m \u001b[0;34m=\u001b[0m \u001b[0mT_start_state\u001b[0m\u001b[0;34m\u001b[0m\u001b[0;34m\u001b[0m\u001b[0m\n",
      "\u001b[0;31mKeyboardInterrupt\u001b[0m: "
     ]
    }
   ],
   "source": [
    "#for i in range(1,137):\n",
    "for i in [12]:\n",
    "    data_prefix = ''\n",
    "    Yt_name = ('user%s' % i)\n",
    "    Xt_name = ''\n",
    "\n",
    "    machine_fname = '+.dot'\n",
    "    transducer_fname = '+{}.dot'.format(Yt_name)\n",
    "\n",
    "    # %%%%%%%%%%%%%%%%%%%%%%%%%%%%%%%%%%%%%%%%%%%%%%%%%%%%%%%%%%\n",
    "\n",
    "    stringYs = open(('Training&Testing/TestingData/Test-%s.txt' % i).format(data_prefix, Yt_name)).readlines()\n",
    "\n",
    "    stringY = \"\"\n",
    "\n",
    "    for y in stringYs:\n",
    "        stringY += y.strip()\n",
    "    \n",
    "\n",
    "    if Xt_name == '':\n",
    "        stringX = '0'*len(stringY)\n",
    "    else:\n",
    "        stringX = open(('Training&Testing/TestingData/Test-%s.txt' % i).format(data_prefix, Xt_name)).readline().strip()\n",
    "    \n",
    "    # %%%%%%%%%%%%%%%%%%%%%%%%%%%%%%%%%%%%%%%%%%%%%%%%%%%%%%%%%%\n",
    "\n",
    "    axs = ['0']\n",
    "    ays = ['0', '1']\n",
    "\n",
    "    pred_probs_by_time, cur_states_by_time = filter_and_pred_probs(stringX, stringY, 'transCSSR_results/' + machine_fname, 'transCSSR_results/' + transducer_fname, axs, ays, inf_alg='transCSSR')\n",
    "    #np.savetxt(\"cssr-probs-%s.txt\" % i ,pred_probs_by_time , fmt=\"%s\")\n",
    "    \n",
    "    stringY = list(stringY)\n",
    "    \n",
    "    probs = pred_probs_by_time[:,1]\n",
    "\n",
    "    sklearn.metrics.log_loss(stringY, probs, eps=1e-15, normalize=True, sample_weight=None, labels=None)\n"
   ]
  },
  {
   "cell_type": "code",
   "execution_count": 34,
   "id": "ordinary-identifier",
   "metadata": {},
   "outputs": [
    {
     "data": {
      "text/plain": [
       "['0', '1']"
      ]
     },
     "execution_count": 34,
     "metadata": {},
     "output_type": "execute_result"
    }
   ],
   "source": []
  },
  {
   "cell_type": "code",
   "execution_count": null,
   "id": "collective-atmosphere",
   "metadata": {},
   "outputs": [],
   "source": [
    "pred_probs_by_time, cur_states_by_time = filter_and_pred_probs(stringX, stringY, 'transCSSR_results/' + machine_fname, 'transCSSR_results/' + transducer_fname, axs, ays, inf_alg='transCSSR')\n",
    "\n",
    "\n"
   ]
  },
  {
   "cell_type": "markdown",
   "id": "challenging-costume",
   "metadata": {},
   "source": [
    "# TransCSSR Testing"
   ]
  },
  {
   "cell_type": "code",
   "execution_count": 5,
   "id": "champion-fitting",
   "metadata": {},
   "outputs": [],
   "source": [
    "import sklearn.metrics\n"
   ]
  },
  {
   "cell_type": "code",
   "execution_count": 18,
   "id": "graduate-arrival",
   "metadata": {},
   "outputs": [
    {
     "ename": "ValueError",
     "evalue": "Found input variables with inconsistent numbers of samples: [34944, 4370]",
     "output_type": "error",
     "traceback": [
      "\u001b[0;31m---------------------------------------------------------------------------\u001b[0m",
      "\u001b[0;31mValueError\u001b[0m                                Traceback (most recent call last)",
      "\u001b[0;32m<ipython-input-18-973d7be09a65>\u001b[0m in \u001b[0;36m<module>\u001b[0;34m\u001b[0m\n\u001b[1;32m     24\u001b[0m     \u001b[0mprobs\u001b[0m \u001b[0;34m=\u001b[0m \u001b[0mprobs\u001b[0m\u001b[0;34m[\u001b[0m\u001b[0;34m:\u001b[0m\u001b[0;34m,\u001b[0m\u001b[0;36m1\u001b[0m\u001b[0;34m]\u001b[0m\u001b[0;34m\u001b[0m\u001b[0;34m\u001b[0m\u001b[0m\n\u001b[1;32m     25\u001b[0m \u001b[0;34m\u001b[0m\u001b[0m\n\u001b[0;32m---> 26\u001b[0;31m     \u001b[0msklearn\u001b[0m\u001b[0;34m.\u001b[0m\u001b[0mmetrics\u001b[0m\u001b[0;34m.\u001b[0m\u001b[0mlog_loss\u001b[0m\u001b[0;34m(\u001b[0m\u001b[0mstringY\u001b[0m\u001b[0;34m,\u001b[0m \u001b[0mprobs\u001b[0m\u001b[0;34m,\u001b[0m \u001b[0meps\u001b[0m\u001b[0;34m=\u001b[0m\u001b[0;36m1e-15\u001b[0m\u001b[0;34m,\u001b[0m \u001b[0mnormalize\u001b[0m\u001b[0;34m=\u001b[0m\u001b[0;32mTrue\u001b[0m\u001b[0;34m,\u001b[0m \u001b[0msample_weight\u001b[0m\u001b[0;34m=\u001b[0m\u001b[0;32mNone\u001b[0m\u001b[0;34m,\u001b[0m \u001b[0mlabels\u001b[0m\u001b[0;34m=\u001b[0m\u001b[0;32mNone\u001b[0m\u001b[0;34m)\u001b[0m\u001b[0;34m\u001b[0m\u001b[0;34m\u001b[0m\u001b[0m\n\u001b[0m",
      "\u001b[0;32m~/opt/anaconda3/lib/python3.8/site-packages/sklearn/utils/validation.py\u001b[0m in \u001b[0;36minner_f\u001b[0;34m(*args, **kwargs)\u001b[0m\n\u001b[1;32m     61\u001b[0m             \u001b[0mextra_args\u001b[0m \u001b[0;34m=\u001b[0m \u001b[0mlen\u001b[0m\u001b[0;34m(\u001b[0m\u001b[0margs\u001b[0m\u001b[0;34m)\u001b[0m \u001b[0;34m-\u001b[0m \u001b[0mlen\u001b[0m\u001b[0;34m(\u001b[0m\u001b[0mall_args\u001b[0m\u001b[0;34m)\u001b[0m\u001b[0;34m\u001b[0m\u001b[0;34m\u001b[0m\u001b[0m\n\u001b[1;32m     62\u001b[0m             \u001b[0;32mif\u001b[0m \u001b[0mextra_args\u001b[0m \u001b[0;34m<=\u001b[0m \u001b[0;36m0\u001b[0m\u001b[0;34m:\u001b[0m\u001b[0;34m\u001b[0m\u001b[0;34m\u001b[0m\u001b[0m\n\u001b[0;32m---> 63\u001b[0;31m                 \u001b[0;32mreturn\u001b[0m \u001b[0mf\u001b[0m\u001b[0;34m(\u001b[0m\u001b[0;34m*\u001b[0m\u001b[0margs\u001b[0m\u001b[0;34m,\u001b[0m \u001b[0;34m**\u001b[0m\u001b[0mkwargs\u001b[0m\u001b[0;34m)\u001b[0m\u001b[0;34m\u001b[0m\u001b[0;34m\u001b[0m\u001b[0m\n\u001b[0m\u001b[1;32m     64\u001b[0m \u001b[0;34m\u001b[0m\u001b[0m\n\u001b[1;32m     65\u001b[0m             \u001b[0;31m# extra_args > 0\u001b[0m\u001b[0;34m\u001b[0m\u001b[0;34m\u001b[0m\u001b[0;34m\u001b[0m\u001b[0m\n",
      "\u001b[0;32m~/opt/anaconda3/lib/python3.8/site-packages/sklearn/metrics/_classification.py\u001b[0m in \u001b[0;36mlog_loss\u001b[0;34m(y_true, y_pred, eps, normalize, sample_weight, labels)\u001b[0m\n\u001b[1;32m   2224\u001b[0m     \"\"\"\n\u001b[1;32m   2225\u001b[0m     \u001b[0my_pred\u001b[0m \u001b[0;34m=\u001b[0m \u001b[0mcheck_array\u001b[0m\u001b[0;34m(\u001b[0m\u001b[0my_pred\u001b[0m\u001b[0;34m,\u001b[0m \u001b[0mensure_2d\u001b[0m\u001b[0;34m=\u001b[0m\u001b[0;32mFalse\u001b[0m\u001b[0;34m)\u001b[0m\u001b[0;34m\u001b[0m\u001b[0;34m\u001b[0m\u001b[0m\n\u001b[0;32m-> 2226\u001b[0;31m     \u001b[0mcheck_consistent_length\u001b[0m\u001b[0;34m(\u001b[0m\u001b[0my_pred\u001b[0m\u001b[0;34m,\u001b[0m \u001b[0my_true\u001b[0m\u001b[0;34m,\u001b[0m \u001b[0msample_weight\u001b[0m\u001b[0;34m)\u001b[0m\u001b[0;34m\u001b[0m\u001b[0;34m\u001b[0m\u001b[0m\n\u001b[0m\u001b[1;32m   2227\u001b[0m \u001b[0;34m\u001b[0m\u001b[0m\n\u001b[1;32m   2228\u001b[0m     \u001b[0mlb\u001b[0m \u001b[0;34m=\u001b[0m \u001b[0mLabelBinarizer\u001b[0m\u001b[0;34m(\u001b[0m\u001b[0;34m)\u001b[0m\u001b[0;34m\u001b[0m\u001b[0;34m\u001b[0m\u001b[0m\n",
      "\u001b[0;32m~/opt/anaconda3/lib/python3.8/site-packages/sklearn/utils/validation.py\u001b[0m in \u001b[0;36mcheck_consistent_length\u001b[0;34m(*arrays)\u001b[0m\n\u001b[1;32m    260\u001b[0m     \u001b[0muniques\u001b[0m \u001b[0;34m=\u001b[0m \u001b[0mnp\u001b[0m\u001b[0;34m.\u001b[0m\u001b[0munique\u001b[0m\u001b[0;34m(\u001b[0m\u001b[0mlengths\u001b[0m\u001b[0;34m)\u001b[0m\u001b[0;34m\u001b[0m\u001b[0;34m\u001b[0m\u001b[0m\n\u001b[1;32m    261\u001b[0m     \u001b[0;32mif\u001b[0m \u001b[0mlen\u001b[0m\u001b[0;34m(\u001b[0m\u001b[0muniques\u001b[0m\u001b[0;34m)\u001b[0m \u001b[0;34m>\u001b[0m \u001b[0;36m1\u001b[0m\u001b[0;34m:\u001b[0m\u001b[0;34m\u001b[0m\u001b[0;34m\u001b[0m\u001b[0m\n\u001b[0;32m--> 262\u001b[0;31m         raise ValueError(\"Found input variables with inconsistent numbers of\"\n\u001b[0m\u001b[1;32m    263\u001b[0m                          \" samples: %r\" % [int(l) for l in lengths])\n\u001b[1;32m    264\u001b[0m \u001b[0;34m\u001b[0m\u001b[0m\n",
      "\u001b[0;31mValueError\u001b[0m: Found input variables with inconsistent numbers of samples: [34944, 4370]"
     ]
    }
   ],
   "source": [
    "#for i in range(1,137):\n",
    "for i in [12]:\n",
    "    data_prefix = ''\n",
    "    Yt_name = ('user%s' % i)\n",
    "    Xt_name = ''\n",
    "\n",
    "    # %%%%%%%%%%%%%%%%%%%%%%%%%%%%%%%%%%%%%%%%%%%%%%%%%%%%%%%%%%\n",
    "\n",
    "    stringYs = open(('Training&Testing/TestingData/Test-%s.txt' % i).format(data_prefix, Yt_name)).readlines()\n",
    "\n",
    "    stringY = \"\"\n",
    "\n",
    "    for y in stringYs:\n",
    "        stringY += y.strip()\n",
    "    \n",
    "\n",
    "    if Xt_name == '':\n",
    "        stringX = '0'*len(stringY)\n",
    "    else:\n",
    "        stringX = open(('Training&Testing/TestingData/Test-%s.txt' % i).format(data_prefix, Xt_name)).readline().strip()\n",
    "    \n",
    "    stringY = list(stringY)\n",
    "    probs = np.loadtxt(('transCSSR-Probs/cssr-probs-%s.txt' % i).format(data_prefix, Yt_name))\n",
    "    probs = probs[:,1]\n",
    "\n",
    "    sklearn.metrics.log_loss(stringY, probs, eps=1e-15, normalize=True, sample_weight=None, labels=None)"
   ]
  },
  {
   "cell_type": "code",
   "execution_count": 22,
   "id": "national-gardening",
   "metadata": {},
   "outputs": [
    {
     "data": {
      "text/plain": [
       "4370"
      ]
     },
     "execution_count": 22,
     "metadata": {},
     "output_type": "execute_result"
    }
   ],
   "source": [
    "len(stringY)\n"
   ]
  },
  {
   "cell_type": "code",
   "execution_count": 23,
   "id": "several-passing",
   "metadata": {},
   "outputs": [
    {
     "data": {
      "text/plain": [
       "34944"
      ]
     },
     "execution_count": 23,
     "metadata": {},
     "output_type": "execute_result"
    }
   ],
   "source": [
    "len(probs)"
   ]
  },
  {
   "cell_type": "markdown",
   "id": "alive-wesley",
   "metadata": {},
   "source": [
    "# GAM Testing"
   ]
  },
  {
   "cell_type": "code",
   "execution_count": 41,
   "id": "geographic-discretion",
   "metadata": {},
   "outputs": [
    {
     "data": {
      "text/plain": [
       "'2 0.0641228639331418\\n'"
      ]
     },
     "execution_count": 41,
     "metadata": {},
     "output_type": "execute_result"
    }
   ],
   "source": [
    "i = 12\n",
    "\n",
    "gamdata = open(('/Users/odalysbar/Documents/HonorsThesis/HonorsThesis-TikTok/BinSeq-MatrixWSpaces/matrix-%s.txt' % i).format(data_prefix, Yt_name)).readlines()\n",
    "                \n",
    "                \n",
    "len(gamdata[104:118])                \n",
    "                \n",
    "gamdata[1].replace(\" \",\"\")   \n",
    "\n",
    "testGam = \"\"\n",
    "                \n",
    "for i in range(1, 15):\n",
    "    testGam += gamdata[i+103].replace(\" \",\"\")        \n",
    "                \n",
    "                \n",
    "                \n",
    "testGam                \n",
    "                \n",
    "gamprobs = open(('/Users/odalysbar/Documents/HonorsThesis/HonorsThesis-TikTok/GAM/Train-Model/predTrain-%s.txt' % i).format(data_prefix, Yt_name)).readlines()\n",
    "gamprobs[1]                              \n",
    "                "
   ]
  },
  {
   "cell_type": "code",
   "execution_count": null,
   "id": "beneficial-residence",
   "metadata": {},
   "outputs": [],
   "source": []
  },
  {
   "cell_type": "code",
   "execution_count": null,
   "id": "foreign-concept",
   "metadata": {},
   "outputs": [],
   "source": []
  }
 ],
 "metadata": {
  "kernelspec": {
   "display_name": "Python 3",
   "language": "python",
   "name": "python3"
  },
  "language_info": {
   "codemirror_mode": {
    "name": "ipython",
    "version": 3
   },
   "file_extension": ".py",
   "mimetype": "text/x-python",
   "name": "python",
   "nbconvert_exporter": "python",
   "pygments_lexer": "ipython3",
   "version": "3.8.3"
  }
 },
 "nbformat": 4,
 "nbformat_minor": 5
}
