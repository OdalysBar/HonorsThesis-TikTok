{
 "cells": [
  {
   "cell_type": "markdown",
   "metadata": {},
   "source": [
    "## A Demonstration of Estimating $\\epsilon$-machines using <tt>CSSR</tt> and Analyzing Their Information-Theoretic Properties "
   ]
  },
  {
   "cell_type": "code",
   "execution_count": 2,
   "metadata": {},
   "outputs": [],
   "source": [
    "# This line just makes plots visible in-notebook, rather than opening stand-alone windows.\n",
    "\n",
    "#%matplotlib nbagg"
   ]
  },
  {
   "cell_type": "markdown",
   "metadata": {},
   "source": [
    "We begin by loading in the required Python packages. In addition to the necessary packages listed on the GitHub page for <tt>transCSSR</tt>, you will also need [graphviz](http://graphviz.readthedocs.io/en/stable/manual.html) to visualize the $\\epsilon$-machines in-notebook, and [scikit-learn](http://scikit-learn.org/stable/) to compute the log-loss for selecting the appropriate lookback length."
   ]
  },
  {
   "cell_type": "code",
   "execution_count": 3,
   "metadata": {},
   "outputs": [],
   "source": [
    "from transCSSR import *\n",
    "import matplotlib.pyplot as plt\n",
    "\n",
    "import graphviz\n",
    "from sklearn.metrics import log_loss\n",
    "\n",
    "import itertools"
   ]
  },
  {
   "cell_type": "markdown",
   "metadata": {},
   "source": [
    "### Estimating the $\\epsilon$-Machine Using <tt>CSSR</tt>"
   ]
  },
  {
   "cell_type": "markdown",
   "metadata": {},
   "source": [
    "Next, we load in the data files. <tt>transCSSR</tt> was originally designed for inferring $\\epsilon$-transducers, so to infer an $\\epsilon$-machine, we fix the input stream as a constant. This is equivalent to the <tt>CSSR</tt> algorithm, which you can learn more about [here](http://bactra.org/CSSR/).\n",
    "\n",
    "The data files should be in the data directory, and should have a .dat file suffix. The time series should consist of single character symbols, with no spacing between symbols. See several of the extant files for examples."
   ]
  },
  {
   "cell_type": "code",
   "execution_count": 7,
   "metadata": {},
   "outputs": [],
   "source": [
    "# Yt is the output. Xt should be set to the null string.\n",
    "\n",
    "data_prefix = ''\n",
    "\n",
    "Yt_name = 'demo'\n",
    "\n",
    "Xt_name = ''\n",
    "\n",
    "machine_fname = '+.dot'\n",
    "transducer_fname = '+{}.dot'.format(Yt_name)"
   ]
  },
  {
   "cell_type": "code",
   "execution_count": 8,
   "metadata": {},
   "outputs": [
    {
     "data": {
      "text/plain": [
       "'+demo.dot'"
      ]
     },
     "execution_count": 8,
     "metadata": {},
     "output_type": "execute_result"
    }
   ],
   "source": [
    "transducer_fname"
   ]
  },
  {
   "cell_type": "code",
   "execution_count": 25,
   "metadata": {},
   "outputs": [],
   "source": [
    "#%%%%%%%%%%%%%%%%%%%%%%%%%%%%%%%%%%%%%%%%%%%%%%%%%%\n",
    "#\n",
    "# Load in the data for each process.\n",
    "#\n",
    "#%%%%%%%%%%%%%%%%%%%%%%%%%%%%%%%%%%%%%%%%%%%%%%%%%%\n",
    "# stringY = open('tiktokCSSR-Data/cssrData-1.txt'.format(data_prefix, Yt_name)).readline().strip()\n",
    "\n",
    "stringYs = open('tiktokCSSR-Data/cssrData-47.txt'.format(data_prefix, Yt_name)).readlines()\n",
    "\n",
    "stringY = \"\"\n",
    "\n",
    "for y in stringYs:\n",
    "    stringY += y.strip()\n",
    "    \n",
    "\n",
    "if Xt_name == '':\n",
    "\tstringX = '0'*len(stringY)\n",
    "else:\n",
    "\tstringX = open('tiktokCSSR-Data/cssrData-47.txt'.format(data_prefix, Xt_name)).readline().strip()\n",
    "\n",
    "# stringY = open('data/{}{}.dat'.format(data_prefix, Yt_name)).readline().strip()\n",
    "\n",
    "# if Xt_name == '':\n",
    "# \tstringX = '0'*len(stringY)\n",
    "# else:\n",
    "\n",
    "# \tstringX = open('data/{}{}.dat'.format(data_prefix, Xt_name)).readline().strip()"
   ]
  },
  {
   "cell_type": "markdown",
   "metadata": {},
   "source": [
    "Next we set several parameters for the <tt>transCSSR</tt> algorithm.\n",
    "\n",
    "* <tt>axs</tt> / <tt>axs</tt> correspond to the input / output alphabets of your data.\n",
    "\n",
    "* <tt>alpha</tt> specifies the level for the hypothesis test used to split histories with different distributions over their next-step-futures. That is, <tt>alpha</tt> specifies the probability that you would split two histories when you shouldn't (when the histories in fact have the same distribution over their next-step-futures), also known as the probability of a Type I error.\n",
    "\n",
    "* <tt>L_max_words</tt> specifies the largest lookback $L$ to use when estimating $P(X_{L+1} \\mid X_{1}^{L})$. These predictive probabilities will be estimated for all $L \\leq$ <tt>L_max_words</tt>.\n",
    "\n",
    "* <tt>L_max_CSSR</tt> specifies to what depth we considering splitting past histories. This parameter effects the [bias-variance](https://en.wikipedia.org/wiki/Bias–variance_tradeoff) tradeoff. A smaller <tt>L_max_CSSR</tt> will lead to a more stable estimate of the underlying $\\epsilon$-machine (low variance), but may not match the true $\\epsilon$-machine (high bias). A larger <tt>L_max_CSSR</tt> will lead to more highly variable estimates of the $\\epsilon$-machine (high variance), but will more closely approximate the true $\\epsilon$-machine (low bias)."
   ]
  },
  {
   "cell_type": "code",
   "execution_count": 26,
   "metadata": {},
   "outputs": [],
   "source": [
    "#%%%%%%%%%%%%%%%%%%%%%%%%%%%%%%%%%%%%%%%%%%%%%%%%%%\n",
    "#\n",
    "# Set the parameters and associated quantities:\n",
    "# \taxs, ays -- the input / output alphabets\n",
    "# \talpha    -- the significance level associated with\n",
    "# \t            CSSR's hypothesis tests.\n",
    "# \tL        -- The maximum history length to look\n",
    "#               back when inferring predictive\n",
    "#               distributions.\n",
    "#\n",
    "#%%%%%%%%%%%%%%%%%%%%%%%%%%%%%%%%%%%%%%%%%%%%%%%%%%\n",
    "\n",
    "axs = ['0']\n",
    "ays = ['0', '1']\n",
    "\n",
    "e_symbols = list(itertools.product(axs, ays)) # All of the possible pairs of emission\n",
    "                                              # symbols for (x, y)\n",
    "\n",
    "alpha = 0.001\n",
    "\n",
    "verbose = False\n",
    "\n",
    "# L is the maximum amount we want to ever look back.\n",
    "\n",
    "L_max_words = 5\n",
    "L_max_CSSR  = 5\n",
    "\n",
    "assert L_max_CSSR <= L_max_words, \"L_max_CSSR must be less than or equal to L_max_words\"\n",
    "\n",
    "inf_alg = 'transCSSR'\n",
    "\n",
    "Tx = len(stringX); Ty = len(stringY)\n",
    "\n",
    "assert Tx == Ty, 'The two time series must have the same length.'\n",
    "\n",
    "T = Tx"
   ]
  },
  {
   "cell_type": "markdown",
   "metadata": {},
   "source": [
    "We first to estimate the predictive distributions over all words using <tt>estimate_predictive_distributions</tt>, and then use these estimates to run the <tt>CSSR</tt> algorithm."
   ]
  },
  {
   "cell_type": "code",
   "execution_count": 27,
   "metadata": {},
   "outputs": [
    {
     "name": "stdout",
     "output_type": "stream",
     "text": [
      "The epsilon-transducer has 6 states.\n",
      "state = 0, x = 0, P(Yt | Xt, state) = [0.99796954 0.00203046]\n",
      "state = 1, x = 0, P(Yt | Xt, state) = [0.98765432 0.01234568]\n",
      "state = 2, x = 0, P(Yt | Xt, state) = [0. 1.]\n",
      "state = 3, x = 0, P(Yt | Xt, state) = [0.98734177 0.01265823]\n",
      "state = 4, x = 0, P(Yt | Xt, state) = [0.9875 0.0125]\n",
      "state = 5, x = 0, P(Yt | Xt, state) = [1. 0.]\n"
     ]
    }
   ],
   "source": [
    "word_lookup_marg, word_lookup_fut = estimate_predictive_distributions(stringX, stringY, L_max_words)\n",
    "\n",
    "epsilon, invepsilon, morph_by_state = run_transCSSR(word_lookup_marg, word_lookup_fut, L_max_CSSR, axs, ays, e_symbols, Xt_name, Yt_name, alpha = alpha, all_digits = True)\n",
    "\n",
    "print('The epsilon-transducer has {} states.'.format(len(invepsilon)))\n",
    "\n",
    "print_morph_by_states(morph_by_state, axs, ays, e_symbols)"
   ]
  },
  {
   "cell_type": "markdown",
   "metadata": {},
   "source": [
    "The output of <tt>CSSR</tt> is stored in the <tt>transCSSR_results</tt> results directory in dot files, which can be easily viewed using [graphviz](http://graphviz.readthedocs.io/en/stable/index.html)."
   ]
  },
  {
   "cell_type": "code",
   "execution_count": 28,
   "metadata": {},
   "outputs": [
    {
     "data": {
      "image/svg+xml": [
       "<?xml version=\"1.0\" encoding=\"UTF-8\" standalone=\"no\"?>\n",
       "<!DOCTYPE svg PUBLIC \"-//W3C//DTD SVG 1.1//EN\"\n",
       " \"http://www.w3.org/Graphics/SVG/1.1/DTD/svg11.dtd\">\n",
       "<!-- Generated by graphviz version 2.47.1 (20210417.1919)\n",
       " -->\n",
       "<!-- Pages: 1 -->\n",
       "<svg width=\"432pt\" height=\"319pt\"\n",
       " viewBox=\"0.00 0.00 432.00 318.74\" xmlns=\"http://www.w3.org/2000/svg\" xmlns:xlink=\"http://www.w3.org/1999/xlink\">\n",
       "<g id=\"graph0\" class=\"graph\" transform=\"scale(0.51 0.51) rotate(0) translate(4 616.51)\">\n",
       "<polygon fill=\"white\" stroke=\"transparent\" points=\"-4,4 -4,-616.51 837,-616.51 837,4 -4,4\"/>\n",
       "<!-- A -->\n",
       "<g id=\"node1\" class=\"node\">\n",
       "<title>A</title>\n",
       "<ellipse fill=\"none\" stroke=\"black\" stroke-width=\"5\" cx=\"134\" cy=\"-588\" rx=\"24.08\" ry=\"24.08\"/>\n",
       "<text text-anchor=\"middle\" x=\"134\" y=\"-581.8\" font-family=\"CMU Serif Roman\" font-size=\"24.00\">A</text>\n",
       "</g>\n",
       "<!-- A&#45;&gt;A -->\n",
       "<g id=\"edge1\" class=\"edge\">\n",
       "<title>A&#45;&gt;A</title>\n",
       "<path fill=\"none\" stroke=\"black\" d=\"M156.06,-598.24C166.67,-599.51 176.04,-596.09 176.04,-588 176.04,-582.69 172.01,-579.39 166.23,-578.11\"/>\n",
       "<polygon fill=\"black\" stroke=\"black\" points=\"166.18,-574.61 156.06,-577.76 165.93,-581.6 166.18,-574.61\"/>\n",
       "<text text-anchor=\"start\" x=\"176.04\" y=\"-581.8\" font-family=\"CMU Serif Roman\" font-size=\"24.00\">0|0:0.9979695431472081</text>\n",
       "</g>\n",
       "<!-- B -->\n",
       "<g id=\"node2\" class=\"node\">\n",
       "<title>B</title>\n",
       "<ellipse fill=\"none\" stroke=\"black\" stroke-width=\"5\" cx=\"134\" cy=\"-475\" rx=\"24.08\" ry=\"24.08\"/>\n",
       "<text text-anchor=\"middle\" x=\"134\" y=\"-468.8\" font-family=\"CMU Serif Roman\" font-size=\"24.00\">B</text>\n",
       "</g>\n",
       "<!-- A&#45;&gt;B -->\n",
       "<g id=\"edge2\" class=\"edge\">\n",
       "<title>A&#45;&gt;B</title>\n",
       "<path fill=\"none\" stroke=\"black\" d=\"M134,-563.73C134,-548.04 134,-527.1 134,-509.6\"/>\n",
       "<polygon fill=\"black\" stroke=\"black\" points=\"137.5,-509.24 134,-499.24 130.5,-509.24 137.5,-509.24\"/>\n",
       "<text text-anchor=\"start\" x=\"134\" y=\"-525.8\" font-family=\"CMU Serif Roman\" font-size=\"24.00\">1|0:0.0020304568527918783</text>\n",
       "</g>\n",
       "<!-- E -->\n",
       "<g id=\"node3\" class=\"node\">\n",
       "<title>E</title>\n",
       "<ellipse fill=\"none\" stroke=\"black\" stroke-width=\"5\" cx=\"285\" cy=\"-363\" rx=\"24.08\" ry=\"24.08\"/>\n",
       "<text text-anchor=\"middle\" x=\"285\" y=\"-356.8\" font-family=\"CMU Serif Roman\" font-size=\"24.00\">E</text>\n",
       "</g>\n",
       "<!-- B&#45;&gt;E -->\n",
       "<g id=\"edge3\" class=\"edge\">\n",
       "<title>B&#45;&gt;E</title>\n",
       "<path fill=\"none\" stroke=\"black\" d=\"M157.78,-471.12C184,-466.81 226.02,-456.39 253,-432 263.46,-422.54 270.79,-408.94 275.77,-396.39\"/>\n",
       "<polygon fill=\"black\" stroke=\"black\" points=\"279.19,-397.24 279.28,-386.65 272.6,-394.87 279.19,-397.24\"/>\n",
       "<text text-anchor=\"start\" x=\"270\" y=\"-412.8\" font-family=\"CMU Serif Roman\" font-size=\"24.00\">0|0:0.9876543209876543</text>\n",
       "</g>\n",
       "<!-- F -->\n",
       "<g id=\"node4\" class=\"node\">\n",
       "<title>F</title>\n",
       "<ellipse fill=\"none\" stroke=\"black\" stroke-width=\"5\" cx=\"97\" cy=\"-25\" rx=\"24.08\" ry=\"24.08\"/>\n",
       "<text text-anchor=\"middle\" x=\"97\" y=\"-18.8\" font-family=\"CMU Serif Roman\" font-size=\"24.00\">F</text>\n",
       "</g>\n",
       "<!-- B&#45;&gt;F -->\n",
       "<g id=\"edge4\" class=\"edge\">\n",
       "<title>B&#45;&gt;F</title>\n",
       "<path fill=\"none\" stroke=\"black\" d=\"M122.7,-453.6C111.82,-432.02 97,-396.64 97,-364 97,-364 97,-364 97,-136 97,-110.23 97,-81.07 97,-59.25\"/>\n",
       "<polygon fill=\"black\" stroke=\"black\" points=\"100.5,-59.18 97,-49.18 93.5,-59.18 100.5,-59.18\"/>\n",
       "<text text-anchor=\"start\" x=\"97\" y=\"-243.8\" font-family=\"CMU Serif Roman\" font-size=\"24.00\">1|0:0.012345679012345678</text>\n",
       "</g>\n",
       "<!-- E&#45;&gt;B -->\n",
       "<g id=\"edge8\" class=\"edge\">\n",
       "<title>E&#45;&gt;B</title>\n",
       "<path fill=\"none\" stroke=\"black\" d=\"M261.05,-367.14C222.48,-372.74 149.35,-385.8 134,-406 126.41,-415.99 125.12,-429.4 126.21,-441.67\"/>\n",
       "<polygon fill=\"black\" stroke=\"black\" points=\"122.75,-442.19 127.6,-451.61 129.68,-441.22 122.75,-442.19\"/>\n",
       "<text text-anchor=\"start\" x=\"134\" y=\"-412.8\" font-family=\"CMU Serif Roman\" font-size=\"24.00\">1|0:0.0125</text>\n",
       "</g>\n",
       "<!-- D -->\n",
       "<g id=\"node6\" class=\"node\">\n",
       "<title>D</title>\n",
       "<ellipse fill=\"none\" stroke=\"black\" stroke-width=\"5\" cx=\"477\" cy=\"-250\" rx=\"24.08\" ry=\"24.08\"/>\n",
       "<text text-anchor=\"middle\" x=\"477\" y=\"-243.8\" font-family=\"CMU Serif Roman\" font-size=\"24.00\">D</text>\n",
       "</g>\n",
       "<!-- E&#45;&gt;D -->\n",
       "<g id=\"edge9\" class=\"edge\">\n",
       "<title>E&#45;&gt;D</title>\n",
       "<path fill=\"none\" stroke=\"black\" d=\"M305.55,-350.12C339.76,-330.34 408.51,-290.6 447.76,-267.9\"/>\n",
       "<polygon fill=\"black\" stroke=\"black\" points=\"449.69,-270.83 456.6,-262.79 446.19,-264.77 449.69,-270.83\"/>\n",
       "<text text-anchor=\"start\" x=\"403\" y=\"-299.8\" font-family=\"CMU Serif Roman\" font-size=\"24.00\">0|0:0.9875</text>\n",
       "</g>\n",
       "<!-- F&#45;&gt;A -->\n",
       "<g id=\"edge10\" class=\"edge\">\n",
       "<title>F&#45;&gt;A</title>\n",
       "<path fill=\"none\" stroke=\"black\" d=\"M75.95,-37.5C47.42,-54.8 0,-90.42 0,-136 0,-476 0,-476 0,-476 0,-528.63 62.07,-561.04 101.72,-576.37\"/>\n",
       "<polygon fill=\"black\" stroke=\"black\" points=\"100.68,-579.72 111.27,-579.9 103.1,-573.15 100.68,-579.72\"/>\n",
       "<text text-anchor=\"start\" x=\"0\" y=\"-299.8\" font-family=\"CMU Serif Roman\" font-size=\"24.00\">0|0:1.0</text>\n",
       "</g>\n",
       "<!-- C -->\n",
       "<g id=\"node5\" class=\"node\">\n",
       "<title>C</title>\n",
       "<ellipse fill=\"none\" stroke=\"black\" stroke-width=\"5\" cx=\"316\" cy=\"-137\" rx=\"24.08\" ry=\"24.08\"/>\n",
       "<text text-anchor=\"middle\" x=\"316\" y=\"-130.8\" font-family=\"CMU Serif Roman\" font-size=\"24.00\">C</text>\n",
       "</g>\n",
       "<!-- C&#45;&gt;F -->\n",
       "<g id=\"edge5\" class=\"edge\">\n",
       "<title>C&#45;&gt;F</title>\n",
       "<path fill=\"none\" stroke=\"black\" d=\"M294.6,-125.25C255.41,-105.57 172.03,-63.69 127.13,-41.13\"/>\n",
       "<polygon fill=\"black\" stroke=\"black\" points=\"128.67,-37.99 118.16,-36.63 125.53,-44.25 128.67,-37.99\"/>\n",
       "<text text-anchor=\"start\" x=\"226\" y=\"-74.8\" font-family=\"CMU Serif Roman\" font-size=\"24.00\">1|0:1.0</text>\n",
       "</g>\n",
       "<!-- D&#45;&gt;A -->\n",
       "<g id=\"edge6\" class=\"edge\">\n",
       "<title>D&#45;&gt;A</title>\n",
       "<path fill=\"none\" stroke=\"black\" d=\"M496.52,-265C505.5,-272.38 515.56,-282.16 522,-293 547.71,-336.32 565.99,-391.21 551,-432 528.27,-493.86 512.88,-513.5 455,-545 406.16,-571.57 241.09,-582.16 168.61,-585.6\"/>\n",
       "<polygon fill=\"black\" stroke=\"black\" points=\"168.04,-582.12 158.21,-586.07 168.36,-589.11 168.04,-582.12\"/>\n",
       "<text text-anchor=\"start\" x=\"556\" y=\"-412.8\" font-family=\"CMU Serif Roman\" font-size=\"24.00\">0|0:0.9873417721518988</text>\n",
       "</g>\n",
       "<!-- D&#45;&gt;C -->\n",
       "<g id=\"edge7\" class=\"edge\">\n",
       "<title>D&#45;&gt;C</title>\n",
       "<path fill=\"none\" stroke=\"black\" d=\"M457.58,-235.61C429.29,-216.11 376.6,-179.78 344.09,-157.36\"/>\n",
       "<polygon fill=\"black\" stroke=\"black\" points=\"345.71,-154.23 335.49,-151.44 341.74,-159.99 345.71,-154.23\"/>\n",
       "<text text-anchor=\"start\" x=\"415\" y=\"-187.8\" font-family=\"CMU Serif Roman\" font-size=\"24.00\">1|0:0.012658227848101266</text>\n",
       "</g>\n",
       "</g>\n",
       "</svg>\n"
      ],
      "text/plain": [
       "<graphviz.files.Source at 0x7fa4d9251be0>"
      ]
     },
     "execution_count": 28,
     "metadata": {},
     "output_type": "execute_result"
    }
   ],
   "source": [
    "graphviz.Source.from_file('transCSSR_results/'+transducer_fname)"
   ]
  },
  {
   "cell_type": "markdown",
   "metadata": {},
   "source": [
    "### Setting the Tuning Parameters for <tt>CSSR</tt> Using a Train-Test Split of the Data"
   ]
  },
  {
   "cell_type": "markdown",
   "metadata": {},
   "source": [
    "Above, we set <tt>L_max_CSSR</tt> arbitrarily. A more principled way to choose <tt>L_max_CSSR</tt> is via a [train/test split](https://en.wikipedia.org/wiki/Training,_test,_and_validation_sets), where we use half of our data to estimate the $\\epsilon$-machine, and then use the other half of the data to determine how well the estimated $\\epsilon$-machine describes the data. To determine how well the estimated $\\epsilon$-machine describes the data, we use the [log-loss](http://scikit-learn.org/stable/modules/model_evaluation.html#log-loss) between the estimated model and the observed testing data. Our goal is to choose the <tt>L_max_CSSR</tt> that **minimizes** the log-loss."
   ]
  },
  {
   "cell_type": "code",
   "execution_count": 7,
   "metadata": {
    "scrolled": true
   },
   "outputs": [
    {
     "name": "stdout",
     "output_type": "stream",
     "text": [
      "Using L = 1, the Log-Loss is 0.0848753318451947.\n",
      "Using L = 2, the Log-Loss is 0.08578671361369439.\n",
      "Using L = 3, the Log-Loss is 0.08578671361369439.\n",
      "Using L = 4, the Log-Loss is 0.08578671361369439.\n",
      "Using L = 5, the Log-Loss is 0.08578671361369439.\n",
      "Train / Test split with log-loss chooses L_opt = 1\n"
     ]
    }
   ],
   "source": [
    "stringY_train = stringY[:len(stringY)//2]\n",
    "stringY_test  = stringY[len(stringY)//2:]\n",
    "\n",
    "stringX_train = '0'*len(stringY_train)\n",
    "stringX_test  = '0'*len(stringY_test)\n",
    "\n",
    "ays_lookup = {}\n",
    "y_labels = []\n",
    "\n",
    "for y_ind, y in enumerate(ays):\n",
    "    ays_lookup[y] = y_ind\n",
    "    y_labels.append(y_ind)\n",
    "\n",
    "arrayY = numpy.zeros(len(stringY_test), dtype = 'int16')\n",
    "\n",
    "for t, y in enumerate(stringY_test):\n",
    "    arrayY[t] = ays_lookup[y]\n",
    "\n",
    "word_lookup_marg, word_lookup_fut = estimate_predictive_distributions(stringX_train, stringY_train, L_max_words)\n",
    "\n",
    "log_loss_by_L = []\n",
    "\n",
    "Ls = range(1, L_max_CSSR+1)\n",
    "\n",
    "for L in Ls:\n",
    "    epsilon, invepsilon, morph_by_state = run_transCSSR(word_lookup_marg, word_lookup_fut, L, axs, ays, e_symbols, Xt_name, Yt_name, alpha = alpha, all_digits = True)\n",
    "    \n",
    "    try: # If we attempt to filter a forbidden past, filter_and_pred_probs will throw an error.\n",
    "        pred_probs_by_time, cur_states_by_time = filter_and_pred_probs(stringX_test, stringY_test, machine_fname, transducer_fname, axs, ays, inf_alg)\n",
    "        log_loss_by_L.append(log_loss(y_pred=pred_probs_by_time, y_true=arrayY, labels = y_labels))\n",
    "    except:\n",
    "        log_loss_by_L.append(numpy.nan)\n",
    "    \n",
    "    print('Using L = {}, the Log-Loss is {}.'.format(L, log_loss_by_L[-1]))\n",
    "\n",
    "L_opt = Ls[numpy.nanargmin(log_loss_by_L)]\n",
    "\n",
    "print('Train / Test split with log-loss chooses L_opt = {}'.format(L_opt))"
   ]
  },
  {
   "cell_type": "code",
   "execution_count": 8,
   "metadata": {},
   "outputs": [
    {
     "data": {
      "text/plain": [
       "(19981, 2)"
      ]
     },
     "execution_count": 8,
     "metadata": {},
     "output_type": "execute_result"
    }
   ],
   "source": [
    "pred_probs_by_time.shape"
   ]
  },
  {
   "cell_type": "code",
   "execution_count": 9,
   "metadata": {},
   "outputs": [
    {
     "data": {
      "text/plain": [
       "Text(0, 0.5, 'Log-Loss(L)')"
      ]
     },
     "execution_count": 9,
     "metadata": {},
     "output_type": "execute_result"
    },
    {
     "data": {
      "image/png": "[encoded data removed]",
      "text/plain": [
       "<Figure size 432x288 with 1 Axes>"
      ]
     },
     "metadata": {
      "needs_background": "light"
     },
     "output_type": "display_data"
    }
   ],
   "source": [
    "plt.figure()\n",
    "plt.plot(Ls, log_loss_by_L)\n",
    "plt.xlabel('Maximum Lookback for Reconstruction (L)')\n",
    "plt.ylabel('Log-Loss(L)')"
   ]
  },
  {
   "cell_type": "markdown",
   "metadata": {},
   "source": [
    "Now we re-estimate the $\\epsilon$-machine using all of the data, with the <tt>L_max_CSSR</tt> chosen by the log-loss minimization."
   ]
  },
  {
   "cell_type": "code",
   "execution_count": 10,
   "metadata": {},
   "outputs": [],
   "source": [
    "word_lookup_marg, word_lookup_fut = estimate_predictive_distributions(stringX, stringY, L_opt)\n",
    "\n",
    "epsilon, invepsilon, morph_by_state = run_transCSSR(word_lookup_marg, word_lookup_fut, L_opt, axs, ays, e_symbols, Xt_name, Yt_name, alpha = alpha, all_digits = True)"
   ]
  },
  {
   "cell_type": "code",
   "execution_count": 11,
   "metadata": {},
   "outputs": [
    {
     "data": {
      "image/svg+xml": [
       "<?xml version=\"1.0\" encoding=\"UTF-8\" standalone=\"no\"?>\n",
       "<!DOCTYPE svg PUBLIC \"-//W3C//DTD SVG 1.1//EN\"\n",
       " \"http://www.w3.org/Graphics/SVG/1.1/DTD/svg11.dtd\">\n",
       "<!-- Generated by graphviz version 2.47.1 (20210417.1919)\n",
       " -->\n",
       "<!-- Pages: 1 -->\n",
       "<svg width=\"432pt\" height=\"507pt\"\n",
       " viewBox=\"0.00 0.00 432.00 507.20\" xmlns=\"http://www.w3.org/2000/svg\" xmlns:xlink=\"http://www.w3.org/1999/xlink\">\n",
       "<g id=\"graph0\" class=\"graph\" transform=\"scale(0.82 0.82) rotate(0) translate(4 616.65)\">\n",
       "<polygon fill=\"white\" stroke=\"transparent\" points=\"-4,4 -4,-616.65 524.62,-616.65 524.62,4 -4,4\"/>\n",
       "<!-- A -->\n",
       "<g id=\"node1\" class=\"node\">\n",
       "<title>A</title>\n",
       "<ellipse fill=\"none\" stroke=\"black\" stroke-width=\"5\" cx=\"120.08\" cy=\"-520\" rx=\"24.08\" ry=\"24.08\"/>\n",
       "<text text-anchor=\"middle\" x=\"120.08\" y=\"-513.8\" font-family=\"CMU Serif Roman\" font-size=\"24.00\">A</text>\n",
       "</g>\n",
       "<!-- A&#45;&gt;A -->\n",
       "<g id=\"edge1\" class=\"edge\">\n",
       "<title>A&#45;&gt;A</title>\n",
       "<path fill=\"none\" stroke=\"black\" d=\"M128.34,-542.84C142.9,-571.92 162.13,-564.3 162.13,-520 162.13,-480.89 147.15,-470.37 133.61,-488.45\"/>\n",
       "<polygon fill=\"black\" stroke=\"black\" points=\"130.52,-486.79 128.34,-497.16 136.51,-490.41 130.52,-486.79\"/>\n",
       "<text text-anchor=\"start\" x=\"162.13\" y=\"-513.8\" font-family=\"CMU Serif Roman\" font-size=\"24.00\">0|0:0.993635770234987</text>\n",
       "</g>\n",
       "<!-- B -->\n",
       "<g id=\"node2\" class=\"node\">\n",
       "<title>B</title>\n",
       "<ellipse fill=\"none\" stroke=\"black\" stroke-width=\"5\" cx=\"120.08\" cy=\"-93\" rx=\"24.08\" ry=\"24.08\"/>\n",
       "<text text-anchor=\"middle\" x=\"120.08\" y=\"-86.8\" font-family=\"CMU Serif Roman\" font-size=\"24.00\">B</text>\n",
       "</g>\n",
       "<!-- A&#45;&gt;B -->\n",
       "<g id=\"edge2\" class=\"edge\">\n",
       "<title>A&#45;&gt;B</title>\n",
       "<path fill=\"none\" stroke=\"black\" d=\"M102.56,-503.51C64.82,-468.19 -18.92,-378.15 4.08,-293 22.48,-224.91 70.58,-156.19 98.73,-120.03\"/>\n",
       "<polygon fill=\"black\" stroke=\"black\" points=\"101.64,-121.99 105.09,-111.97 96.15,-117.65 101.64,-121.99\"/>\n",
       "<text text-anchor=\"start\" x=\"4.08\" y=\"-299.8\" font-family=\"CMU Serif Roman\" font-size=\"24.00\">1|0:0.0063642297650130545</text>\n",
       "</g>\n",
       "<!-- B&#45;&gt;A -->\n",
       "<g id=\"edge3\" class=\"edge\">\n",
       "<title>B&#45;&gt;A</title>\n",
       "<path fill=\"none\" stroke=\"black\" d=\"M141.74,-103.54C201.77,-131.5 363.2,-217.67 321.08,-319 285.85,-403.77 195.29,-471.16 148.71,-501.52\"/>\n",
       "<polygon fill=\"black\" stroke=\"black\" points=\"146.81,-498.58 140.27,-506.92 150.58,-504.47 146.81,-498.58\"/>\n",
       "<text text-anchor=\"start\" x=\"327.08\" y=\"-299.8\" font-family=\"CMU Serif Roman\" font-size=\"24.00\">0|0:0.9765625</text>\n",
       "</g>\n",
       "<!-- B&#45;&gt;B -->\n",
       "<g id=\"edge4\" class=\"edge\">\n",
       "<title>B&#45;&gt;B</title>\n",
       "<path fill=\"none\" stroke=\"black\" d=\"M128.34,-115.63C142.9,-144.43 162.13,-136.89 162.13,-93 162.13,-54.25 147.15,-43.83 133.61,-61.74\"/>\n",
       "<polygon fill=\"black\" stroke=\"black\" points=\"130.57,-60.01 128.34,-70.37 136.54,-63.66 130.57,-60.01\"/>\n",
       "<text text-anchor=\"start\" x=\"162.13\" y=\"-86.8\" font-family=\"CMU Serif Roman\" font-size=\"24.00\">1|0:0.0234375</text>\n",
       "</g>\n",
       "</g>\n",
       "</svg>\n"
      ],
      "text/plain": [
       "<graphviz.files.Source at 0x7fdaa88f2e20>"
      ]
     },
     "execution_count": 11,
     "metadata": {},
     "output_type": "execute_result"
    }
   ],
   "source": [
    "graphviz.Source.from_file(transducer_fname)"
   ]
  },
  {
   "cell_type": "markdown",
   "metadata": {},
   "source": [
    "### Computing Information- and Computation-theoretic Quantities from the $\\epsilon$-Machine"
   ]
  },
  {
   "cell_type": "markdown",
   "metadata": {},
   "source": [
    "Finally, we investigate some of the information- and computation-theoretic properties of the $\\epsilon$-machine. The algorithms for doing so can be found in:\n",
    "\n",
    "J. P. Crutchfield, C. J. Ellison, and P. M. Riechers, “Exact complexity: The spectral decomposition of intrinsic computation,” Physics Letters A, vol. 380, no. 9, pp. 998–1002, Mar. 2016. [arXiv](https://arxiv.org/abs/1309.3792)\n",
    "\n",
    "In particular, we compute various asymptotic properties:\n",
    "\n",
    "* The statistical complexity $C_{\\mu}$.\n",
    "* The entropy rate $h_{\\mu}$.\n",
    "* The excess entropy $\\mathbf{E}$.\n",
    "\n",
    "and various finite-$L$ properties:\n",
    "\n",
    "* The entropy of words of length $L$: $H[X_{1}^{L}]$\n",
    "* The conditional entropy using words of length $L-1$: $H[X_{L} \\mid X_{1}^{L-1}$]\n",
    "* The excess entropy between finite past-future blocks: $E(L) = I[X_{-L}^{-1} \\wedge X_{0}^{L-1}]$."
   ]
  },
  {
   "cell_type": "code",
   "execution_count": 13,
   "metadata": {},
   "outputs": [],
   "source": [
    "L_max_ict = 20\n",
    "\n",
    "HLs, hLs, hmu, ELs, E, Cmu, etas_matrix = compute_ict_measures(transducer_fname, ays, inf_alg, L_max = L_max_ict)"
   ]
  },
  {
   "cell_type": "code",
   "execution_count": 14,
   "metadata": {},
   "outputs": [
    {
     "name": "stdout",
     "output_type": "stream",
     "text": [
      "Cmu      = 0.9167299433492118\n",
      "H[X_{0}] = 0.9213803753262972\n",
      "hmu      = 0.6682010884130289\n",
      "E        = 0.916729943349218\n"
     ]
    }
   ],
   "source": [
    "print('Cmu      = {}\\nH[X_{{0}}] = {}\\nhmu      = {}\\nE        = {}'.format(Cmu, HLs[0], hmu, E))"
   ]
  },
  {
   "cell_type": "code",
   "execution_count": 15,
   "metadata": {},
   "outputs": [
    {
     "data": {
      "text/plain": [
       "<matplotlib.legend.Legend at 0x7f86a344b520>"
      ]
     },
     "execution_count": 15,
     "metadata": {},
     "output_type": "execute_result"
    },
    {
     "data": {
      "image/png": "[encoded data removed]",
      "text/plain": [
       "<Figure size 432x288 with 1 Axes>"
      ]
     },
     "metadata": {
      "needs_background": "light"
     },
     "output_type": "display_data"
    },
    {
     "data": {
      "image/png": "[encoded data removed]",
      "text/plain": [
       "<Figure size 432x288 with 1 Axes>"
      ]
     },
     "metadata": {
      "needs_background": "light"
     },
     "output_type": "display_data"
    }
   ],
   "source": [
    "from matplotlib.ticker import MaxNLocator\n",
    "\n",
    "fig = plt.figure()\n",
    "plt.plot(range(0, L_max_ict), hLs, '.')\n",
    "plt.axhline(hmu, color = 'red', linestyle = '--', label = '$h_{\\mu}$')\n",
    "plt.xlabel('Lookback $L$')\n",
    "plt.ylabel('$H[X_{0} \\mid X_{-L}^{-1}]$')\n",
    "ax = fig.gca(); ax.xaxis.set_major_locator(MaxNLocator(integer=True))\n",
    "plt.legend()\n",
    "\n",
    "fig = plt.figure()\n",
    "plt.plot(range(1, L_max_ict + 1), ELs, '.')\n",
    "plt.axhline(E, color = 'red', linestyle = '--', label = '$\\mathbf{E}$')\n",
    "plt.xlabel('Lookback $L$')\n",
    "plt.ylabel('$E(L) = I[X_{-L}^{-1} \\wedge X_{0}^{L-1}]$')\n",
    "ax = fig.gca(); ax.xaxis.set_major_locator(MaxNLocator(integer=True))\n",
    "plt.legend()"
   ]
  }
 ],
 "metadata": {
  "kernelspec": {
   "display_name": "Python 3",
   "language": "python",
   "name": "python3"
  },
  "language_info": {
   "codemirror_mode": {
    "name": "ipython",
    "version": 3
   },
   "file_extension": ".py",
   "mimetype": "text/x-python",
   "name": "python",
   "nbconvert_exporter": "python",
   "pygments_lexer": "ipython3",
   "version": "3.8.3"
  }
 },
 "nbformat": 4,
 "nbformat_minor": 4
}
